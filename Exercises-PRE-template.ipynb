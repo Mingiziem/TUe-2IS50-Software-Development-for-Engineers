{
 "cells": [
  {
   "cell_type": "markdown",
   "metadata": {},
   "source": [
    "# Programming Lesson and Exercises - PRE <span class=\"tocSkip\"></span>\n",
    "\n",
    "The goal of these exercises is to teach you the use of _Python 3_ in the context of _Data Analytics_. These programming lessons do not require prior programming experience. If you do have experience with programming in Python then you may find some exercises rather easy, so consider them as a refresher.\n",
    "\n",
    "\n",
    "This notebook has the following structure:\n",
    "\n",
    "- The first part introduces the concepts for this week. The theory is interleaved with small exercises, which have the goal of letting you practice the concepts that were just intruduced.\n",
    "- At the end there are one or more larger exercises, which have the goal to test what you have learned earlier. These will be more difficult and will require more independent work than the exercises in the first part.\n",
    "\n",
    "\n",
    "<div class=\"alert-info alert\" role=\"alert-info\">Make sure you have completed the \"Getting Started\" assignment on Canvas and submitted the `verify-tools-template.ipynb` notebook, before you continue with these exercises.</div>\n",
    "\n",
    "<div class=\"alert-info alert\" role=\"alert-info\">While you read this notebook,\n",
    "execute all code cells in linear order\n",
    "from the beginning</div>"
   ]
  },
  {
   "cell_type": "markdown",
   "metadata": {},
   "source": [
    "\n",
    "# Introduction to this template notebook\n",
    "\n",
    "* This is a **personal** notebook.\n",
    "* Make sure you work in a **copy** of `...-template.ipynb`, **renamed** to `...-yourIDnr.ipynb`, where `yourIDnr` is your TU/e identification number.\n",
    "\n",
    "You are expected to work with Python code in this notebook. The locations where you should write your solutions can be recognized by **marker lines**, which look like this:\n",
    "\n",
    ">`#//`\n",
    ">    `BEGIN_TODO [Label]` `Description` `(n points)`\n",
    ">\n",
    ">`#//`\n",
    ">    `END_TODO [Label]`\n",
    "\n",
    "<div class=\"alert alert-warning\" role=\"alert\">\n",
    "<ul>\n",
    "    <li>Do NOT modify or delete these marker lines.  Keep them as they are.</li>\n",
    "    <li>NEVER write code <i>outside</i> the marked blocks. Such code cannot be evaluated.</li>\n",
    "</ul>\n",
    "</div>\n",
    "\n",
    "Proceed in this notebook as follows:\n",
    "* **Read** the text.\n",
    "* **Fill in** your solutions between `BEGIN_TODO` and `END_TODO` marker lines.\n",
    "* **Run** _all_ code cells (also the ones _without_ your code),\n",
    "    _in linear order_ from the first code cell.\n",
    "\n",
    "<div class=\"alert alert-danger\" role=\"danger\">\n",
    "<h3>Integrity</h3>\n",
    "<ul>\n",
    "    <li>In this course you must act according to the rules of the TU/e code of scientific conduct.</li>\n",
    "    <li>All the exercises and the graded assignments are to be executed individually and independently.</li>\n",
    "    <li>You must not copy from the Internet, your friends, books... If you represent other people's work as your own, then that constitutes fraud and will be reported to the Examination Committee.</li>\n",
    "    <li>Making your work available to others (complicity) also constitutes fraud.</li>\n",
    "</ul>\n",
    "</div>\n",
    "\n",
    "## Personalize your notebook\n",
    "\n",
    "1. Copy the following three lines of code:\n",
    "\n",
    "  ```python\n",
    "  AUTHOR_NAME = 'Your Full Name'\n",
    "  AUTHOR_ID_NR = '1234567'\n",
    "  AUTHOR_DATE = 'YYYY-MM-DD'\n",
    "  ```\n",
    "\n",
    "1. Paste them between the marker lines in the next code cell.\n",
    "1. Fill in your _full name, identification number,_ and the current _date_ (i.e. when you first modified this notebook, e.g. `'2020-02-26'`) as strings between quotes.\n",
    "1. Run the code cell by putting the cursor there and typing **Control-Enter**.\n"
   ]
  },
  {
   "cell_type": "code",
   "execution_count": 1,
   "metadata": {},
   "outputs": [
    {
     "data": {
      "text/plain": [
       "('Mingiziem Birhan Ayalew', '1621173', '2020-04-28')"
      ]
     },
     "execution_count": 1,
     "metadata": {},
     "output_type": "execute_result"
    }
   ],
   "source": [
    "#// BEGIN_TODO [Author] Name, Id.nr., Date, as strings (1 point)\n",
    "\n",
    "# ===== =====> Replace this line by your code. <===== ===== #\n",
    "AUTHOR_NAME = 'Mingiziem Birhan Ayalew'\n",
    "AUTHOR_ID_NR = '1621173'\n",
    "AUTHOR_DATE = '2020-04-28'\n",
    "\n",
    "#// END_TODO [Author]\n",
    "\n",
    "AUTHOR_NAME, AUTHOR_ID_NR, AUTHOR_DATE"
   ]
  },
  {
   "cell_type": "markdown",
   "metadata": {
    "toc": "true"
   },
   "source": [
    "<h1>Table of Contents<span class=\"tocSkip\"></span></h1>\n",
    "<div class=\"toc\"><ul class=\"toc-item\"><li><span><a href=\"#Learning-objectives\" data-toc-modified-id=\"Learning-objectives-1\">Learning objectives</a></span></li><li><span><a href=\"#Other-resources-for-learning-Python\" data-toc-modified-id=\"Other-resources-for-learning-Python-2\">Other resources for learning Python</a></span></li><li><span><a href=\"#1.-Programming-in-Python\" data-toc-modified-id=\"1.-Programming-in-Python-3\"><span class=\"section\">1.</span> Programming in Python</a></span><ul class=\"toc-item\"><li><ul class=\"toc-item\"><li><span><a href=\"#Syntax-vs.-Semantics\" data-toc-modified-id=\"Syntax-vs.-Semantics-3.0.1\">Syntax vs. Semantics</a></span></li></ul></li></ul></li><li><span><a href=\"#2.-Errors\" data-toc-modified-id=\"2.-Errors-4\"><span class=\"section\">2.</span> Errors</a></span></li><li><span><a href=\"#3.-Data-types\" data-toc-modified-id=\"3.-Data-types-5\"><span class=\"section\">3.</span> Data types</a></span></li><li><span><a href=\"#4.-Data-values\" data-toc-modified-id=\"4.-Data-values-6\"><span class=\"section\">4.</span> Data values</a></span></li><li><span><a href=\"#5.-Expressions\" data-toc-modified-id=\"5.-Expressions-7\"><span class=\"section\">5.</span> Expressions</a></span><ul class=\"toc-item\"><li><span><a href=\"#Arithmetic-operators\" data-toc-modified-id=\"Arithmetic-operators-7.1\">Arithmetic operators</a></span></li><li><span><a href=\"#String-operators\" data-toc-modified-id=\"String-operators-7.2\">String operators</a></span><ul class=\"toc-item\"><li><span><a href=\"#Exercise-5.a\" data-toc-modified-id=\"Exercise-5.a-7.2.1\">Exercise <span class=\"exercise\">5.a</span></a></span></li><li><span><a href=\"#Exercise-5.b\" data-toc-modified-id=\"Exercise-5.b-7.2.2\">Exercise <span class=\"exercise\">5.b</span></a></span></li><li><span><a href=\"#Exercise-5.c\" data-toc-modified-id=\"Exercise-5.c-7.2.3\">Exercise <span class=\"exercise\">5.c</span></a></span></li><li><span><a href=\"#Exercise-5.d\" data-toc-modified-id=\"Exercise-5.d-7.2.4\">Exercise <span class=\"exercise\">5.d</span></a></span></li><li><span><a href=\"#Exercise-5.e\" data-toc-modified-id=\"Exercise-5.e-7.2.5\">Exercise <span class=\"exercise\">5.e</span></a></span></li></ul></li></ul></li><li><span><a href=\"#6.-Variables-and-assignments\" data-toc-modified-id=\"6.-Variables-and-assignments-8\"><span class=\"section\">6.</span> Variables and assignments</a></span><ul class=\"toc-item\"><li><ul class=\"toc-item\"><li><span><a href=\"#Exercise-6.a\" data-toc-modified-id=\"Exercise-6.a-8.0.1\">Exercise <span class=\"exercise\">6.a</span></a></span></li></ul></li><li><span><a href=\"#Getting-the-type-of-a-variable-or-expression\" data-toc-modified-id=\"Getting-the-type-of-a-variable-or-expression-8.1\">Getting the type of a variable or expression</a></span><ul class=\"toc-item\"><li><span><a href=\"#Exercise-6.b\" data-toc-modified-id=\"Exercise-6.b-8.1.1\">Exercise <span class=\"exercise\">6.b</span></a></span></li><li><span><a href=\"#Exercise-6.c\" data-toc-modified-id=\"Exercise-6.c-8.1.2\">Exercise <span class=\"exercise\">6.c</span></a></span></li></ul></li></ul></li><li><span><a href=\"#7.-More-expressions\" data-toc-modified-id=\"7.-More-expressions-9\"><span class=\"section\">7.</span> More expressions</a></span><ul class=\"toc-item\"><li><span><a href=\"#Comparison-operators\" data-toc-modified-id=\"Comparison-operators-9.1\">Comparison operators</a></span><ul class=\"toc-item\"><li><span><a href=\"#Exercise-7.a\" data-toc-modified-id=\"Exercise-7.a-9.1.1\">Exercise <span class=\"exercise\">7.a</span></a></span></li><li><span><a href=\"#Exercise-7.b\" data-toc-modified-id=\"Exercise-7.b-9.1.2\">Exercise <span class=\"exercise\">7.b</span></a></span></li><li><span><a href=\"#Exercise-7.c\" data-toc-modified-id=\"Exercise-7.c-9.1.3\">Exercise <span class=\"exercise\">7.c</span></a></span></li></ul></li><li><span><a href=\"#Logical-operators\" data-toc-modified-id=\"Logical-operators-9.2\">Logical operators</a></span><ul class=\"toc-item\"><li><span><a href=\"#Exercise-7.d\" data-toc-modified-id=\"Exercise-7.d-9.2.1\">Exercise <span class=\"exercise\">7.d</span></a></span></li></ul></li></ul></li><li><span><a href=\"#8.-Lists\" data-toc-modified-id=\"8.-Lists-10\"><span class=\"section\">8.</span> Lists</a></span><ul class=\"toc-item\"><li><span><a href=\"#List-construction\" data-toc-modified-id=\"List-construction-10.1\">List construction</a></span><ul class=\"toc-item\"><li><span><a href=\"#Exercise-8.a\" data-toc-modified-id=\"Exercise-8.a-10.1.1\">Exercise <span class=\"exercise\">8.a</span></a></span></li></ul></li><li><span><a href=\"#Adding-elements-to-a-list\" data-toc-modified-id=\"Adding-elements-to-a-list-10.2\">Adding elements to a list</a></span></li><li><span><a href=\"#List-comprehensions\" data-toc-modified-id=\"List-comprehensions-10.3\">List comprehensions</a></span><ul class=\"toc-item\"><li><span><a href=\"#Exercise-8.b\" data-toc-modified-id=\"Exercise-8.b-10.3.1\">Exercise <span class=\"exercise\">8.b</span></a></span></li><li><span><a href=\"#Exercise-8.c\" data-toc-modified-id=\"Exercise-8.c-10.3.2\">Exercise <span class=\"exercise\">8.c</span></a></span></li></ul></li><li><span><a href=\"#Sequence-membership\" data-toc-modified-id=\"Sequence-membership-10.4\">Sequence membership</a></span><ul class=\"toc-item\"><li><span><a href=\"#Exercise-8.d\" data-toc-modified-id=\"Exercise-8.d-10.4.1\">Exercise <span class=\"exercise\">8.d</span></a></span></li></ul></li><li><span><a href=\"#Indexing-a-sequence\" data-toc-modified-id=\"Indexing-a-sequence-10.5\">Indexing a sequence</a></span><ul class=\"toc-item\"><li><span><a href=\"#Exercise-8.e\" data-toc-modified-id=\"Exercise-8.e-10.5.1\">Exercise <span class=\"exercise\">8.e</span></a></span></li><li><span><a href=\"#Exercise-8.f\" data-toc-modified-id=\"Exercise-8.f-10.5.2\">Exercise <span class=\"exercise\">8.f</span></a></span></li><li><span><a href=\"#Exercise-8.g\" data-toc-modified-id=\"Exercise-8.g-10.5.3\">Exercise <span class=\"exercise\">8.g</span></a></span></li></ul></li><li><span><a href=\"#Slicing-a-sequence\" data-toc-modified-id=\"Slicing-a-sequence-10.6\">Slicing a sequence</a></span><ul class=\"toc-item\"><li><span><a href=\"#Exercise-8.h\" data-toc-modified-id=\"Exercise-8.h-10.6.1\">Exercise <span class=\"exercise\">8.h</span></a></span></li><li><span><a href=\"#Exercise-8.i\" data-toc-modified-id=\"Exercise-8.i-10.6.2\">Exercise <span class=\"exercise\">8.i</span></a></span></li><li><span><a href=\"#Exercise-8.j\" data-toc-modified-id=\"Exercise-8.j-10.6.3\">Exercise <span class=\"exercise\">8.j</span></a></span></li></ul></li><li><span><a href=\"#Changing-list-elements\" data-toc-modified-id=\"Changing-list-elements-10.7\">Changing list elements</a></span><ul class=\"toc-item\"><li><span><a href=\"#Exercise-8.k\" data-toc-modified-id=\"Exercise-8.k-10.7.1\">Exercise <span class=\"exercise\">8.k</span></a></span></li><li><span><a href=\"#Exercise-8.l\" data-toc-modified-id=\"Exercise-8.l-10.7.2\">Exercise <span class=\"exercise\">8.l</span></a></span></li></ul></li></ul></li><li><span><a href=\"#9.-Dictionaries\" data-toc-modified-id=\"9.-Dictionaries-11\"><span class=\"section\">9.</span> Dictionaries</a></span><ul class=\"toc-item\"><li><span><a href=\"#Dictionary-membership\" data-toc-modified-id=\"Dictionary-membership-11.1\">Dictionary membership</a></span><ul class=\"toc-item\"><li><span><a href=\"#Exercise-9.a\" data-toc-modified-id=\"Exercise-9.a-11.1.1\">Exercise <span class=\"exercise\">9.a</span></a></span></li></ul></li><li><span><a href=\"#Indexing-a-dictionary\" data-toc-modified-id=\"Indexing-a-dictionary-11.2\">Indexing a dictionary</a></span></li><li><span><a href=\"#Adding-and-changing-dictionary-values\" data-toc-modified-id=\"Adding-and-changing-dictionary-values-11.3\">Adding and changing dictionary values</a></span><ul class=\"toc-item\"><li><span><a href=\"#Exercise-9.b\" data-toc-modified-id=\"Exercise-9.b-11.3.1\">Exercise <span class=\"exercise\">9.b</span></a></span></li></ul></li></ul></li><li><span><a href=\"#10.-Function-calls\" data-toc-modified-id=\"10.-Function-calls-12\"><span class=\"section\">10.</span> Function calls</a></span></li><li><span><a href=\"#11.-If-statement\" data-toc-modified-id=\"11.-If-statement-13\"><span class=\"section\">11.</span> If statement</a></span><ul class=\"toc-item\"><li><ul class=\"toc-item\"><li><span><a href=\"#Exercise-11.a\" data-toc-modified-id=\"Exercise-11.a-13.0.1\">Exercise <span class=\"exercise\">11.a</span></a></span></li></ul></li></ul></li><li><span><a href=\"#12.-For-loop\" data-toc-modified-id=\"12.-For-loop-14\"><span class=\"section\">12.</span> For loop</a></span><ul class=\"toc-item\"><li><ul class=\"toc-item\"><li><span><a href=\"#Exercise-12.a\" data-toc-modified-id=\"Exercise-12.a-14.0.1\">Exercise <span class=\"exercise\">12.a</span></a></span></li></ul></li></ul></li><li><span><a href=\"#13.-Comments-to-document-purpose-and-design-of-programs\" data-toc-modified-id=\"13.-Comments-to-document-purpose-and-design-of-programs-15\"><span class=\"section\">13.</span> Comments to document purpose and design of programs</a></span><ul class=\"toc-item\"><li><ul class=\"toc-item\"><li><span><a href=\"#Exercise-13.a\" data-toc-modified-id=\"Exercise-13.a-15.0.1\">Exercise <span class=\"exercise\">13.a</span></a></span></li></ul></li></ul></li><li><span><a href=\"#14.-Errors:-reporting-and-diagnosis\" data-toc-modified-id=\"14.-Errors:-reporting-and-diagnosis-16\"><span class=\"section\">14.</span> Errors: reporting and diagnosis</a></span><ul class=\"toc-item\"><li><span><a href=\"#Errors-and-their-reporting-in-Python\" data-toc-modified-id=\"Errors-and-their-reporting-in-Python-16.1\">Errors and their reporting in Python</a></span></li><li><span><a href=\"#Error-diagnosis\" data-toc-modified-id=\"Error-diagnosis-16.2\">Error diagnosis</a></span></li><li><span><a href=\"#Logical-errors\" data-toc-modified-id=\"Logical-errors-16.3\">Logical errors</a></span></li><li><span><a href=\"#Locating-mistakes\" data-toc-modified-id=\"Locating-mistakes-16.4\">Locating mistakes</a></span><ul class=\"toc-item\"><li><span><a href=\"#Exercise-14.a\" data-toc-modified-id=\"Exercise-14.a-16.4.1\">Exercise <span class=\"exercise\">14.a</span></a></span></li><li><span><a href=\"#Exercise-14.b\" data-toc-modified-id=\"Exercise-14.b-16.4.2\">Exercise <span class=\"exercise\">14.b</span></a></span></li></ul></li></ul></li><li><span><a href=\"#15.-Python-best-practices\" data-toc-modified-id=\"15.-Python-best-practices-17\"><span class=\"section\">15.</span> Python best practices</a></span></li><li><span><a href=\"#16.-Exercise:-exam-grades\" data-toc-modified-id=\"16.-Exercise:-exam-grades-18\"><span class=\"section\">16.</span> Exercise: exam grades</a></span><ul class=\"toc-item\"><li><ul class=\"toc-item\"><li><span><a href=\"#Exercise-16.a\" data-toc-modified-id=\"Exercise-16.a-18.0.1\">Exercise <span class=\"exercise\">16.a</span></a></span></li><li><span><a href=\"#Exercise-16.b\" data-toc-modified-id=\"Exercise-16.b-18.0.2\">Exercise <span class=\"exercise\">16.b</span></a></span></li><li><span><a href=\"#Exercise-16.c\" data-toc-modified-id=\"Exercise-16.c-18.0.3\">Exercise <span class=\"exercise\">16.c</span></a></span></li><li><span><a href=\"#Exercise-16.d\" data-toc-modified-id=\"Exercise-16.d-18.0.4\">Exercise <span class=\"exercise\" id=\"exercise_count\">16.d</span></a></span></li><li><span><a href=\"#Exercise-16.e\" data-toc-modified-id=\"Exercise-16.e-18.0.5\">Exercise <span class=\"exercise\">16.e</span></a></span></li></ul></li></ul></li></ul></div>"
   ]
  },
  {
   "cell_type": "markdown",
   "metadata": {},
   "source": [
    "--- \n",
    "# Learning objectives\n",
    "\n",
    "After this lesson, you should\n",
    "\n",
    "* Know the basic **data types** of Python, and the **literals** to denote data values.\n",
    "* Know how to use **expressions** and **variables** to work with data.\n",
    "* Know how to use **lists** and **dictionaries**.\n",
    "* Know how to call **functions**.\n",
    "* Know how to use the **if statement** and the **for loop**.\n",
    "* Know how **comments** are used in Python.\n",
    "* Know some simple **error diagnosis** techniques."
   ]
  },
  {
   "cell_type": "markdown",
   "metadata": {},
   "source": [
    "# Other resources for learning Python\n",
    "\n",
    "In this lesson, we introduce the basic ingredients for programming in Python. We have selected a small number of key features to prepare you for the rest of this course.\n",
    "\n",
    "However, this lesson cannot and will not cover all details. Sometimes you may want to consult other information sources:\n",
    "    \n",
    "* _A Whirlwind Tour of Python_ by Jake VanderPlas   \n",
    "   The entire book is available as PDF and as a collection of (linked) notebooks:  \n",
    "    https://github.com/jakevdp/WhirlwindTourOfPython/\n",
    "\n",
    "* _Python Data Science Handbook_ by Jake VanderPlas   \n",
    "   If you are interested in a more in depth view on what we do in this course, the book is available at   \n",
    "    https://jakevdp.github.io/PythonDataScienceHandbook/"
   ]
  },
  {
   "cell_type": "markdown",
   "metadata": {},
   "source": [
    "# <span class=\"section\">1.</span> Programming in Python\n",
    "\n",
    "A program is a precise description of how to manipulate data. Just like a recipe for the cooking a dish, a program consists of a sequence of instructions which precisely describe to a machine the steps it should perform in order to achieve a certain goal. The basic instructions to manipulate data include instructions to:\n",
    "\n",
    "* **input** data from the external world\n",
    "    (e.g., the keyboard, coordinates of a mouse click, a sensor, a file in external memory);\n",
    "* **store** data in internal memory\n",
    "    (typically, associating a name with it for later reference;\n",
    "    also known as a **variable**);\n",
    "* **process** data by applying a formula, also known as an **expression**\n",
    "    (e.g. combining it with other data, such as adding two numbers);\n",
    "* **retrieve** data from internal memory\n",
    "    (e.g. to use it in an expression);\n",
    "* **output** data to the external world\n",
    "    (e.g. show it on the screen, print it on paper, set the speed of a motor, write it to an external file).\n",
    "    \n",
    "A program can be executed, by performing the instructions in the program text.\n",
    "This is called program **execution**. Executing a program is also referred to as **running a program**. During execution, the stored data can change over time.\n",
    "\n",
    "### Syntax vs. Semantics\n",
    "\n",
    "The syntax describes how a program is written, while the semantics describes what a program does. In other words,\n",
    "\n",
    "* **syntax** or **form** (shape, structure),\n",
    "    defines what texts constitute valid programs\n",
    "    and what texts do not;\n",
    "    that is, it defines what valid programs _look_ like;\n",
    "    what form they take on;\n",
    "\n",
    "* **semantics** or **meaning**,\n",
    "    defines for each valid program\n",
    "    what computation it expresses;\n",
    "    that is, how it _behaves_ when executed;\n",
    "    what its computational _meaning_ is.\n",
    "    \n",
    "This is similar to natural languages like English, where the syntax defines the spelling and grammar, and the semantics defines the meaning of words and sentences."
   ]
  },
  {
   "cell_type": "markdown",
   "metadata": {},
   "source": [
    "# <span class=\"section\">2.</span> Errors\n",
    "\n",
    "When learning to program you will invariably run into many errors. There is no recipe to avoid errors completely.\n",
    "All engineers will need to learn how to deal with errors:\n",
    "\n",
    "* carefully reread a program if you suspect an error;\n",
    "* be critical of programs, especially your own; always question why you would trust them;\n",
    "* provide a convincing argument for why a program design works; explain it to someone else;\n",
    "* test your program fragments with carefully chosen inputs and inspect the outputs;\n",
    "* build in automated tests to check expectations;\n",
    "* when you detect an error, fix it."
   ]
  },
  {
   "cell_type": "markdown",
   "metadata": {},
   "source": [
    "# <span class=\"section\">3.</span> Data types\n",
    "\n",
    "The Python programming language provides support for the following **primitive data types**:\n",
    "\n",
    "* **integers** (whole numbers), named **`int`**\n",
    "* **floating-point numbers** (as approximations of real numbers), named **`float`**\n",
    "* **booleans** (truth values for use in logical expressions), named **`bool`**\n",
    "* **strings** (texts or character sequences), named **`str`**\n",
    "\n",
    "And Python supports **composite data types**\n",
    "that combine values from (primitive and/or composite) data types into\n",
    "composite data values.\n",
    "The most important composite data type in Python is:\n",
    "\n",
    "* **lists** (sequences of values from other types, including lists), named **`list`**\n",
    "\n",
    "> Note that Python treats strings as a primitive data type;\n",
    "> it does not have a separate data type for\n",
    ">\n",
    "> * **characters** (textual symbols)\n",
    ">\n",
    "> In Python, one just uses strings of length one as loose characters."
   ]
  },
  {
   "cell_type": "markdown",
   "metadata": {},
   "source": [
    "# <span class=\"section\">4.</span> Data values\n",
    "\n",
    "To refer to a specific value _in Python code_,\n",
    "you can write a **literal** to represent that value.\n",
    "There are many rules that govern the notation for such literals,\n",
    "but in most cases, the notation is straightforward.\n",
    "Here are some examples.\n",
    "\n",
    "* integers:\n",
    "    &nbsp; `0` &nbsp;&nbsp; `1` &nbsp;&nbsp; `2` &nbsp;&nbsp; `10` &nbsp;&nbsp; `256` &nbsp;&nbsp; `-1`\n",
    "* floating-point numbers:\n",
    "    &nbsp; `0.0` &nbsp;&nbsp; `3.1416` &nbsp;&nbsp; `6.0221e23` &nbsp;&nbsp; `-1.6022e-19`\n",
    "* booleans:\n",
    "    &nbsp; `False` &nbsp;&nbsp; `True`\n",
    "* strings:\n",
    "    &nbsp; `''` &nbsp;&nbsp; `'a'` &nbsp;&nbsp;\n",
    "    `'Data Analytics'` &nbsp;&nbsp; `\"double quotes\"` &nbsp;&nbsp; `'single quotes'`\n",
    "\n",
    "The characters in a string literal are enclosed by matching _single_ or _double_ quotes.\n",
    "\n",
    "Sometimes we want to include _special characters_ in a string, e.g. a single quote (as in \"John's house\") or a new line. In strings, a **backslash** is used as _escape_ character to denote special characters:\n",
    "\n",
    "* `\\n` is a _newline_ character;\n",
    "* `\\'` is single quote character (no backslash needed between double quotes);\n",
    "* `\\\"` is a double quote character (no backslash needed between single quotes);\n",
    "* `\\\\` is a backslash character.\n",
    "\n",
    "For example, the string \"John's house\" can be written as `'John\\'s house'` or `\"John's house\"`, and the string\n",
    "\n",
    "\"a<br>\n",
    "b<br>\n",
    "c\"\n",
    "\n",
    "can be written as `'a\\nb\\nc'`."
   ]
  },
  {
   "cell_type": "markdown",
   "metadata": {},
   "source": [
    "# <span class=\"section\">5.</span> Expressions\n",
    "\n",
    "An alternative to using a _literal_ for denoting a value\n",
    "is to _compute_ the desired value\n",
    "through a program fragment,\n",
    "in particular, through an **expression**.\n",
    "Such expressions can involve literals, **operators**,\n",
    "**variables** and/or **function calls** (explained below).\n",
    "\n",
    "For instance, here is _one thousand and one_ written as `int` literal:"
   ]
  },
  {
   "cell_type": "code",
   "execution_count": null,
   "metadata": {},
   "outputs": [],
   "source": [
    "1001"
   ]
  },
  {
   "cell_type": "markdown",
   "metadata": {},
   "source": [
    "And here is an expression\n",
    "that yields this same `int` value,\n",
    "using the addition operator `+`:"
   ]
  },
  {
   "cell_type": "code",
   "execution_count": null,
   "metadata": {},
   "outputs": [],
   "source": [
    "1000 + 1"
   ]
  },
  {
   "cell_type": "markdown",
   "metadata": {},
   "source": [
    "Which values can be used with which operators\n",
    "depends on the types of the values involved. For instance, you cannot add numbers and strings:"
   ]
  },
  {
   "cell_type": "code",
   "execution_count": null,
   "metadata": {},
   "outputs": [],
   "source": [
    "'one thousand' + 1"
   ]
  },
  {
   "cell_type": "markdown",
   "metadata": {},
   "source": [
    "However, you can convert the value of one type to another type. For example, the line below converts integer value `1001` to a string value `'1001'`:"
   ]
  },
  {
   "cell_type": "code",
   "execution_count": null,
   "metadata": {},
   "outputs": [],
   "source": [
    "str(1001)"
   ]
  },
  {
   "cell_type": "markdown",
   "metadata": {},
   "source": [
    "## Arithmetic operators\n",
    "\n",
    "In Python, one can use the common **arithmetic operators** on\n",
    "integers and floating-point numbers:\n",
    "\n",
    "* `+` and `-` for addition and subtraction/negation\n",
    "* `*` and `/` for multiplication and division\n",
    "* `**` for exponentiation, e.g. `2**3` stands for $2^3$\n",
    "* `//` and `%` for integer division and remainder\n",
    "\n",
    "Notes:\n",
    "* The usual **binding precedences** apply.  \n",
    "    From strongest to weakest, the order is:\n",
    "\n",
    "    * exponentiation\n",
    "    * negation (unary minus) \n",
    "    * multiplication, division, and remainder\n",
    "    * addition and subtraction\n",
    "\n",
    "* Division using `/` always returns a `float` (also when the arguments are  of type `int`, e.g. `6/3` will result in `2.0` and not `2`).\n",
    "\n",
    "* Integer division `//` returns an `int`, rounding down the value (e.g. `100//101` will result in `0`).\n",
    "\n",
    "* Floating-point arithmetic is inherently not exact;\n",
    "    it has **limited precision** due to rounding. This topics is outside the scope of this course, see [Floating point arithmetic](https://en.wikipedia.org/wiki/Floating-point_arithmetic) for more details.\n",
    "    \n",
    "**Parentheses** are used for grouping regardless of binding precedence:"
   ]
  },
  {
   "cell_type": "code",
   "execution_count": null,
   "metadata": {},
   "outputs": [],
   "source": [
    "1 + 2 * 3 - 4"
   ]
  },
  {
   "cell_type": "code",
   "execution_count": null,
   "metadata": {},
   "outputs": [],
   "source": [
    "(1 + 2) * 3  - 4"
   ]
  },
  {
   "cell_type": "markdown",
   "metadata": {},
   "source": [
    "## String operators\n",
    "\n",
    "The operators `+` and `*` can also be applied to strings,\n",
    "to **join** and **replicate** them: \n",
    "\n",
    "* `'abc' + \"xyz\"` equals `'abcxyz'`\n",
    "* `3 * 'ha'` and `'ha' * 3` and `'ha' + 'ha' + 'ha'` all equal `'hahaha'`"
   ]
  },
  {
   "cell_type": "markdown",
   "metadata": {},
   "source": [
    "### Exercise <span class=\"exercise\">5.a</span>\n",
    "\n",
    "Write an expression to evaluate the product of $1903$ and $22302$.\n",
    "\n",
    "> **IMPORTANT:** write your answer between the `BEGIN_TODO` and `END_TODO` lines. This holds for all your answers, in all notebooks in this course!"
   ]
  },
  {
   "cell_type": "code",
   "execution_count": 2,
   "metadata": {},
   "outputs": [
    {
     "data": {
      "text/plain": [
       "42440706"
      ]
     },
     "execution_count": 2,
     "metadata": {},
     "output_type": "execute_result"
    }
   ],
   "source": [
    "#// BEGIN_TODO [PRE_5a] Product evaluation (1 point)\n",
    "\n",
    "# ===== =====> Replace this line by your code. <===== ===== #\n",
    "1903*22302\n",
    "\n",
    "#// END_TODO [PRE_5a]"
   ]
  },
  {
   "cell_type": "markdown",
   "metadata": {},
   "source": [
    "### Exercise <span class=\"exercise\">5.b</span>\n",
    "\n",
    "Write **one** expression to evaluate the formula $N(N+1)/2$ for $N=100$;\n",
    "this gives the sum of the integers from 1 through 100.\n",
    "Make sure that the result is an **integer** and not a _floating-point number_.  \n",
    "Hint: Use integer division."
   ]
  },
  {
   "cell_type": "code",
   "execution_count": 11,
   "metadata": {},
   "outputs": [
    {
     "data": {
      "text/plain": [
       "5050.0"
      ]
     },
     "execution_count": 11,
     "metadata": {},
     "output_type": "execute_result"
    }
   ],
   "source": [
    "#// BEGIN_TODO [PRE_5b] Sum of integers 1 through 100 (1 point)\n",
    "100*(100+1)/2\n",
    "\n",
    "#// END_TODO [PRE_5b]"
   ]
  },
  {
   "cell_type": "markdown",
   "metadata": {},
   "source": [
    "### Exercise <span class=\"exercise\">5.c</span>\n",
    "\n",
    "Write an expression to determine the last two digits of $2^{100}$, using the remainder operation.  \n",
    "Hint: The last two digits of a number `n` are the remainder after dividing that number by `100`: `n % 100`."
   ]
  },
  {
   "cell_type": "code",
   "execution_count": 19,
   "metadata": {},
   "outputs": [
    {
     "name": "stdout",
     "output_type": "stream",
     "text": [
      "1267650600228229401496703205376\n"
     ]
    },
    {
     "data": {
      "text/plain": [
       "76"
      ]
     },
     "execution_count": 19,
     "metadata": {},
     "output_type": "execute_result"
    }
   ],
   "source": [
    "#// BEGIN_TODO [PRE_5c] Last two digits of 2 to the power 100 (1 point)\n",
    "\n",
    "n=2**100\n",
    "print(n)\n",
    "n%100\n",
    "\n",
    "#// END_TODO [PRE_5c]"
   ]
  },
  {
   "cell_type": "markdown",
   "metadata": {},
   "source": [
    "### Exercise <span class=\"exercise\">5.d</span>\n",
    "\n",
    "Write _two_ **floating-point expressions** (_on one line, separated by a comma_) to compute\n",
    "\n",
    "* $1.0 + 10^{-16} + 10^{-16} + 10^{-16}$\n",
    "* $1.0 + \\left(10^{-16} + 10^{-16} + 10^{-16}\\right)$\n",
    "\n",
    "and observe the results.  What do you notice?\n",
    "\n",
    "Hints:\n",
    "\n",
    "* Use scientific notation with an `e`.\n",
    "* The expressions involve the same values and operators;\n",
    "    they differ only in the order of evaluation.\n",
    "* This illustrates one concern with floating-point arithmetic."
   ]
  },
  {
   "cell_type": "code",
   "execution_count": 20,
   "metadata": {},
   "outputs": [
    {
     "data": {
      "text/plain": [
       "(1.0, 1.0000000000000002)"
      ]
     },
     "execution_count": 20,
     "metadata": {},
     "output_type": "execute_result"
    }
   ],
   "source": [
    "#// BEGIN_TODO [PRE_5d] Two floating-point additions using different evaluation orders (1 point)\n",
    "\n",
    "1.0+10**-16+10**-16+10**-16,1.0+(10**-16+10**-16+10**-16)\n",
    "#// END_TODO [PRE_5d]"
   ]
  },
  {
   "cell_type": "markdown",
   "metadata": {},
   "source": [
    "### Exercise <span class=\"exercise\">5.e</span>\n",
    "\n",
    "Write a **string expression** to construct the 80-character string consisting of\n",
    "ten minuses (`-`) followed by ten pluses (`+`), repeated four times.  \n",
    "Hint: Use operators for joining and replicating strings; don't forget parentheses."
   ]
  },
  {
   "cell_type": "code",
   "execution_count": 27,
   "metadata": {},
   "outputs": [
    {
     "name": "stdout",
     "output_type": "stream",
     "text": [
      "__________++++++++++__________++++++++++__________++++++++++__________++++++++++\n",
      "++++++++++__________++++++++++__________++++++++++__________++++++++++__________\n",
      "__________++++++++++__________++++++++++__________++++++++++__________++++++++++\n"
     ]
    }
   ],
   "source": [
    "#// BEGIN_TODO [PRE_5e] Ten minuses followed by ten pluses, repeated four times (1 point)\n",
    "\n",
    "print('__________++++++++++'*4)\n",
    "print(\"++++++++++__________\"*4)\n",
    "print('__________++++++++++'*4)\n",
    "\n",
    "#// END_TODO [PRE_5e]"
   ]
  },
  {
   "cell_type": "markdown",
   "metadata": {},
   "source": [
    "# <span class=\"section\">6.</span> Variables and assignments\n",
    "\n",
    "A value can be given a name through an **assignment** with the syntax\n",
    "\n",
    "```python\n",
    "name = expression\n",
    "```\n",
    "\n",
    "where `name` is an **identifier**\n",
    "consisting of letters, digits, and/or underscores, _not starting with a digit_, for example:"
   ]
  },
  {
   "cell_type": "code",
   "execution_count": null,
   "metadata": {},
   "outputs": [],
   "source": [
    "x = 2*7 + 5"
   ]
  },
  {
   "cell_type": "markdown",
   "metadata": {},
   "source": [
    "Such a name is also known as a **variable**.\n",
    "\n",
    "> **Note:** Some identifiers are _predefined_ (addressed below under [Python syntax](#Python-syntax))\n",
    "> and cannot be used for naming, e.g. you should never define a variable named `int`.\n",
    "\n",
    "At each moment during execution, a defined variable has one specific value. The value can be inspected by writing the variable name in the last row of a code cell:"
   ]
  },
  {
   "cell_type": "code",
   "execution_count": null,
   "metadata": {},
   "outputs": [],
   "source": [
    "x"
   ]
  },
  {
   "cell_type": "markdown",
   "metadata": {},
   "source": [
    "Over time, the value of a variable can change, e.g., through assignment statements."
   ]
  },
  {
   "cell_type": "code",
   "execution_count": null,
   "metadata": {},
   "outputs": [],
   "source": [
    "x = 2*3.1415926\n",
    "x"
   ]
  },
  {
   "cell_type": "markdown",
   "metadata": {},
   "source": [
    "Variables can be used in expressions, and are replaced by their current value when the expression is evaluated."
   ]
  },
  {
   "cell_type": "code",
   "execution_count": null,
   "metadata": {},
   "outputs": [],
   "source": [
    "y = x + 2\n",
    "y"
   ]
  },
  {
   "cell_type": "markdown",
   "metadata": {},
   "source": [
    "The semantics of the assignment statement\n",
    "\n",
    "```python\n",
    "name = expression\n",
    "```\n",
    "\n",
    "is\n",
    "\n",
    "1. evaluate the expression;\n",
    "1. bind (assign) the resulting value as new value to the named variable.\n",
    "\n",
    "> **Note**:\n",
    "> 1. `=` is not the same as the equality operator (Python uses `==` for that, see below).\n",
    "> 1. `=` is not symmetric: `v = expr` and `expr = v` are not the same thing\n",
    ">    (in fact, `expr = v` is often invalid syntax, e.g., `1 + 1 = v` makes no sense).\n",
    ">\n",
    "> But we are stuck with this choice."
   ]
  },
  {
   "cell_type": "markdown",
   "metadata": {},
   "source": [
    "### Exercise <span class=\"exercise\">6.a</span>\n",
    "\n",
    "Below we define variables `pi` and `r`, representing an approximation of the number $\\pi$ and the radius of a circle. Use these to compute the area of a circle with radius `r` and assign it to the variable `circle_area`."
   ]
  },
  {
   "cell_type": "code",
   "execution_count": 28,
   "metadata": {},
   "outputs": [
    {
     "data": {
      "text/plain": [
       "50.2654816"
      ]
     },
     "execution_count": 28,
     "metadata": {},
     "output_type": "execute_result"
    }
   ],
   "source": [
    "pi = 3.1415926\n",
    "r = 4\n",
    "\n",
    "#// BEGIN_TODO [PRE_6a] Circle area (1 point)\n",
    "circle_area=pi*(r**2)\n",
    "\n",
    "#// END_TODO [PRE_6a]\n",
    "\n",
    "circle_area"
   ]
  },
  {
   "cell_type": "markdown",
   "metadata": {},
   "source": [
    "## Getting the type of a variable or expression"
   ]
  },
  {
   "cell_type": "markdown",
   "metadata": {},
   "source": [
    "The built-in function **`type(v)`** returns the type of a value `v`. For example, the type of a string value is `str`:"
   ]
  },
  {
   "cell_type": "code",
   "execution_count": 29,
   "metadata": {},
   "outputs": [
    {
     "data": {
      "text/plain": [
       "str"
      ]
     },
     "execution_count": 29,
     "metadata": {},
     "output_type": "execute_result"
    }
   ],
   "source": [
    "type('one thousand')"
   ]
  },
  {
   "cell_type": "markdown",
   "metadata": {},
   "source": [
    "and the type of an integer value is `int`:"
   ]
  },
  {
   "cell_type": "code",
   "execution_count": 30,
   "metadata": {},
   "outputs": [
    {
     "data": {
      "text/plain": [
       "int"
      ]
     },
     "execution_count": 30,
     "metadata": {},
     "output_type": "execute_result"
    }
   ],
   "source": [
    "type(1001)"
   ]
  },
  {
   "cell_type": "markdown",
   "metadata": {},
   "source": [
    "### Exercise <span class=\"exercise\">6.b</span>\n",
    "\n",
    "Using the built-in function `type()`,\n",
    "determine the type of the string literal `'100'`."
   ]
  },
  {
   "cell_type": "code",
   "execution_count": 31,
   "metadata": {},
   "outputs": [
    {
     "data": {
      "text/plain": [
       "str"
      ]
     },
     "execution_count": 31,
     "metadata": {},
     "output_type": "execute_result"
    }
   ],
   "source": [
    "#// BEGIN_TODO [PRE_6b] Type of '100' (1 point)\n",
    "type('100')\n",
    "#// END_TODO [PRE_6b]"
   ]
  },
  {
   "cell_type": "markdown",
   "metadata": {},
   "source": [
    "### Exercise <span class=\"exercise\">6.c</span>\n",
    "\n",
    "Let us define a variable `x` equal to 3.1415926:"
   ]
  },
  {
   "cell_type": "code",
   "execution_count": 33,
   "metadata": {},
   "outputs": [],
   "source": [
    "x = 3.1415926"
   ]
  },
  {
   "cell_type": "markdown",
   "metadata": {},
   "source": [
    "Using the built-infunction `type()`, determine the type of variable x."
   ]
  },
  {
   "cell_type": "code",
   "execution_count": 34,
   "metadata": {},
   "outputs": [
    {
     "data": {
      "text/plain": [
       "float"
      ]
     },
     "execution_count": 34,
     "metadata": {},
     "output_type": "execute_result"
    }
   ],
   "source": [
    "#// BEGIN_TODO [PRE_6c] Type of a variable (1 point)\n",
    "type(x)\n",
    "#// END_TODO [PRE_6c]"
   ]
  },
  {
   "cell_type": "markdown",
   "metadata": {},
   "source": [
    "# <span class=\"section\">7.</span> More expressions"
   ]
  },
  {
   "cell_type": "markdown",
   "metadata": {},
   "source": [
    "## Comparison operators\n",
    "\n",
    "**Comparison operators** yield boolean values (i.e. `True` or `False`):\n",
    "\n",
    "* `==` and `!=` for _equality_ and _inequality_ (`<>` cannot be used)\n",
    "* `<` and `>` for _less than_ and _greater than_\n",
    "* `<=` and `>=` for _less than or equal_ and _greater than or equal_ (`=<` and `=>` cannot be used)\n",
    "\n",
    "Notes:\n",
    "\n",
    "* Comparison operators apply to numbers, strings, and lists (but not to a mix).\n",
    "* Avoid equality operators on floating-point numbers.  \n",
    "    Reason: Floating-point arithmetic is inherently not exact.  \n",
    "    Thus, we have `0.1 + 0.2 != 0.3`.\n",
    "* For sequence comparison, the _lexicographic_ order is used.\n",
    "* Comparison operators can be **chained**: `expr_1 <= expr_2 < expr_3`"
   ]
  },
  {
   "cell_type": "markdown",
   "metadata": {},
   "source": [
    "### Exercise <span class=\"exercise\">7.a</span>\n",
    "\n",
    "Write a **comparison expression** to compare `1 + 2` and `3` for equality,\n",
    "and execute it.  "
   ]
  },
  {
   "cell_type": "code",
   "execution_count": 37,
   "metadata": {},
   "outputs": [
    {
     "name": "stdout",
     "output_type": "stream",
     "text": [
      "True\n"
     ]
    }
   ],
   "source": [
    "#// BEGIN_TODO [PRE_7a] Is 1 + 2 equal to 3? (1 point)\n",
    "print(1+2==3)\n",
    "#// END_TODO [PRE_7a]"
   ]
  },
  {
   "cell_type": "markdown",
   "metadata": {},
   "source": [
    "### Exercise <span class=\"exercise\">7.b</span>\n",
    "\n",
    "Write a **comparison expression** to compare `0.1 + 0.2` and `0.3` for equality,\n",
    "and execute it.  "
   ]
  },
  {
   "cell_type": "code",
   "execution_count": 38,
   "metadata": {},
   "outputs": [
    {
     "name": "stdout",
     "output_type": "stream",
     "text": [
      "False\n"
     ]
    }
   ],
   "source": [
    "#// BEGIN_TODO [PRE_7b] Are 0.1 + 0.2 and 0.3 equal? (1 point)\n",
    "print(0.1+0.2==0.3)\n",
    "#// END_TODO [PRE_7b]"
   ]
  },
  {
   "cell_type": "markdown",
   "metadata": {},
   "source": [
    "This shows that floating point arithmetic is not exact."
   ]
  },
  {
   "cell_type": "markdown",
   "metadata": {},
   "source": [
    "### Exercise <span class=\"exercise\">7.c</span>\n",
    "\n",
    "Write a **comparison expression** to verify that $10^{30}$ lies strictly between $2^{99}$ and $2^{100}$.  \n",
    "Hint: Use comparison operator chaining of the form `a < b < c`."
   ]
  },
  {
   "cell_type": "code",
   "execution_count": 39,
   "metadata": {},
   "outputs": [
    {
     "name": "stdout",
     "output_type": "stream",
     "text": [
      "True\n"
     ]
    }
   ],
   "source": [
    "#// BEGIN_TODO [PRE_7c] Verify that 10 to 30 lies strictly between 2 to 99 and 2 to 100 (1 point)\n",
    "print(2**99<10**30<2**100)\n",
    "#// END_TODO [PRE_7c]"
   ]
  },
  {
   "cell_type": "markdown",
   "metadata": {},
   "source": [
    "## Logical operators\n",
    "\n",
    "**Logical operators** operate on boolean values:\n",
    "\n",
    "* `and`, `or`, and `not` for conjunction, disjunction, and negation\n",
    "* `if`-`else` for **conditional evaluation**\n",
    "\n",
    "```python\n",
    "expression_1 if condition else expression_2\n",
    "```\n",
    "\n",
    "For example, `True and False` computes the conjunction of `True` and `False` and returns `False`, while `not(a)` computes the negation of the value stored in variable `a`.\n",
    "\n",
    "Note:\n",
    "\n",
    "* The logical operators bind _weaker_ than the other operators. Hence, you need parentheses when comparing results of logical operators.\n",
    "    \n",
    "    * `a and b == c` &nbsp; is interpreted as &nbsp; `a and (b == c)` &nbsp; and _not_ as &nbsp; `(a and b) == c`"
   ]
  },
  {
   "cell_type": "markdown",
   "metadata": {},
   "source": [
    "### Exercise <span class=\"exercise\">7.d</span>\n",
    "\n",
    "Write a **logical expression** for integers $a,b,c$ defined below to express that it is _not_ the case that: $a$ is less than $b$ and $c$ is greater or equal to $b$."
   ]
  },
  {
   "cell_type": "code",
   "execution_count": 41,
   "metadata": {},
   "outputs": [
    {
     "name": "stdout",
     "output_type": "stream",
     "text": [
      "False\n"
     ]
    }
   ],
   "source": [
    "a = 4\n",
    "b = 4\n",
    "c = 5\n",
    "\n",
    "#// BEGIN_TODO [PRE_7d] Logical expression with a, b, c (1 point)\n",
    "print(a < b and c >= b)\n",
    "#// END_TODO [PRE_7d]"
   ]
  },
  {
   "cell_type": "markdown",
   "metadata": {},
   "source": [
    "# <span class=\"section\">8.</span> Lists\n",
    "\n",
    "## List construction\n",
    "\n",
    "List values must always be constructed through expressions.\n",
    "\n",
    "**Square brackets** are used to construct list values containing a given sequence of elements:\n",
    "\n",
    "* `[]`\n",
    "* `[1, 2, 3]`\n",
    "* `['a', 'b', 'c']`\n",
    "* `[['a', 1], ['b', 2]]`\n",
    "\n",
    "Observe that\n",
    "\n",
    "* a list can have zero elements: `[]` is the **empty list**;\n",
    "* a list can have a single element: `[0]`;\n",
    "* not all elements in a list need to have the same type;\n",
    "* a list can have other lists as elements.\n",
    "\n",
    "Lists can be joined and replicated through `+` and `*`, just like strings."
   ]
  },
  {
   "cell_type": "markdown",
   "metadata": {},
   "source": [
    "### Exercise <span class=\"exercise\">8.a</span>\n",
    "\n",
    "Write a **list expression** to construct a list consisting of three repetitions of the numbers $1$ and $2$\n",
    "(alternating, starting with $1$).  "
   ]
  },
  {
   "cell_type": "code",
   "execution_count": 42,
   "metadata": {},
   "outputs": [
    {
     "data": {
      "text/plain": [
       "[1, 2, 1, 2, 1, 2]"
      ]
     },
     "execution_count": 42,
     "metadata": {},
     "output_type": "execute_result"
    }
   ],
   "source": [
    "#// BEGIN_TODO [PRE_8a] Alternating list of three repetitions of 1, 2 (1 point)\n",
    "[1,2]*3\n",
    "#// END_TODO [PRE_8a]"
   ]
  },
  {
   "cell_type": "markdown",
   "metadata": {},
   "source": [
    "## Adding elements to a list\n",
    "\n",
    "We will now explain how to add elements to a list. Let us start with the following list `l`"
   ]
  },
  {
   "cell_type": "code",
   "execution_count": 44,
   "metadata": {},
   "outputs": [],
   "source": [
    "l = ['a','b','c'] "
   ]
  },
  {
   "cell_type": "markdown",
   "metadata": {},
   "source": [
    "We can add the element `'d'` to the `l` by using the function `append()`"
   ]
  },
  {
   "cell_type": "code",
   "execution_count": 45,
   "metadata": {},
   "outputs": [
    {
     "data": {
      "text/plain": [
       "['a', 'b', 'c', 'd']"
      ]
     },
     "execution_count": 45,
     "metadata": {},
     "output_type": "execute_result"
    }
   ],
   "source": [
    "l.append('d')\n",
    "l"
   ]
  },
  {
   "cell_type": "markdown",
   "metadata": {},
   "source": [
    "## List comprehensions"
   ]
  },
  {
   "cell_type": "markdown",
   "metadata": {},
   "source": [
    "Python provides an easy way to construct lists, called _list comprehensions_. As a first example, we want to create the list `[0, 2, 4, 6, 8]`. As you can see, this list contains as elements `2*n` for `n = 0, 1, 2, 3, 4`, i.e. `n` ranges over the integers from `0` to `5` (not inclusive). In Python, we can create this list by executing"
   ]
  },
  {
   "cell_type": "code",
   "execution_count": 46,
   "metadata": {},
   "outputs": [
    {
     "data": {
      "text/plain": [
       "[0, 2, 4, 6, 8]"
      ]
     },
     "execution_count": 46,
     "metadata": {},
     "output_type": "execute_result"
    }
   ],
   "source": [
    "[ 2*n for n in [0, 1, 2, 3, 4] ]"
   ]
  },
  {
   "cell_type": "markdown",
   "metadata": {},
   "source": [
    "In general, a list comprehension has the following syntax:\n",
    "\n",
    "```python\n",
    "[expression for variable in range]\n",
    "``` \n",
    "\n",
    "which iterates the `variable` over the elements in the `range`, computes an `expression` (containing the `variable`), and appends it to the list.\n",
    "\n",
    "We can replace the range of `n` by any expression that returns a list (or in general a so-called _iterable_ object). For example, the requirement that `n` runs from `0` to `5` (not inclusive) can be encoded by the expression `range(5)`."
   ]
  },
  {
   "cell_type": "code",
   "execution_count": 47,
   "metadata": {},
   "outputs": [
    {
     "data": {
      "text/plain": [
       "[0, 2, 4, 6, 8]"
      ]
     },
     "execution_count": 47,
     "metadata": {},
     "output_type": "execute_result"
    }
   ],
   "source": [
    "[ 2*n for n in range(5) ]"
   ]
  },
  {
   "cell_type": "markdown",
   "metadata": {},
   "source": [
    "We could let `n` run from `3` to `5` (not inclusive) by replacing `range(5)` by `range(3,5)`:"
   ]
  },
  {
   "cell_type": "code",
   "execution_count": 48,
   "metadata": {},
   "outputs": [
    {
     "data": {
      "text/plain": [
       "[6, 8]"
      ]
     },
     "execution_count": 48,
     "metadata": {},
     "output_type": "execute_result"
    }
   ],
   "source": [
    "[ 2*n for n in range(3, 5) ]"
   ]
  },
  {
   "cell_type": "markdown",
   "metadata": {},
   "source": [
    "We can iterate over any list. For example, we can use the `len()` function to get the length of a string, e.g."
   ]
  },
  {
   "cell_type": "code",
   "execution_count": 49,
   "metadata": {},
   "outputs": [
    {
     "data": {
      "text/plain": [
       "4"
      ]
     },
     "execution_count": 49,
     "metadata": {},
     "output_type": "execute_result"
    }
   ],
   "source": [
    "len('abcd')"
   ]
  },
  {
   "cell_type": "markdown",
   "metadata": {},
   "source": [
    "Given the following list"
   ]
  },
  {
   "cell_type": "code",
   "execution_count": 51,
   "metadata": {},
   "outputs": [],
   "source": [
    "animal_list = ['dog', 'cat', 'horse', 'elephant']"
   ]
  },
  {
   "cell_type": "markdown",
   "metadata": {},
   "source": [
    "we can get a new list containing the length `len(w)` of every word `w` in the list `animal_list` by"
   ]
  },
  {
   "cell_type": "code",
   "execution_count": 52,
   "metadata": {},
   "outputs": [
    {
     "data": {
      "text/plain": [
       "[3, 3, 5, 8]"
      ]
     },
     "execution_count": 52,
     "metadata": {},
     "output_type": "execute_result"
    }
   ],
   "source": [
    "[ len(w) for w in animal_list ]"
   ]
  },
  {
   "cell_type": "markdown",
   "metadata": {},
   "source": [
    "We can even add a condition about which elements should be included in the list. For instance, we can make a new list consisting only of those elements of `animal_list` of length less than `4` by"
   ]
  },
  {
   "cell_type": "code",
   "execution_count": 53,
   "metadata": {},
   "outputs": [
    {
     "data": {
      "text/plain": [
       "['dog', 'cat']"
      ]
     },
     "execution_count": 53,
     "metadata": {},
     "output_type": "execute_result"
    }
   ],
   "source": [
    "[ w for w in animal_list if len(w) < 4 ]"
   ]
  },
  {
   "cell_type": "markdown",
   "metadata": {},
   "source": [
    "### Exercise <span class=\"exercise\">8.b</span>\n",
    "\n",
    "Let again the `animal_list` be given by"
   ]
  },
  {
   "cell_type": "code",
   "execution_count": 68,
   "metadata": {},
   "outputs": [],
   "source": [
    "animal_list = ['dog', 'cat', 'horse', 'elephant']"
   ]
  },
  {
   "cell_type": "markdown",
   "metadata": {},
   "source": [
    "Use a **list comprehension** to create a new list containing the plural of each animal in the `animal_list` (so the new list should be `['dogs', 'cats', 'horses', 'elephants']`)."
   ]
  },
  {
   "cell_type": "code",
   "execution_count": 81,
   "metadata": {},
   "outputs": [
    {
     "data": {
      "text/plain": [
       "['dogs', 'cats', 'horses', 'elephants']"
      ]
     },
     "execution_count": 81,
     "metadata": {},
     "output_type": "execute_result"
    }
   ],
   "source": [
    "#// BEGIN_TODO [PRE_8b] Create list of plurals (1 point)\n",
    "[w+'s' for w in animal_list]\n",
    "# ===== =====> Replace this line by your code. <===== ===== #\n",
    "\n",
    "#// END_TODO [PRE_8b]"
   ]
  },
  {
   "cell_type": "markdown",
   "metadata": {},
   "source": [
    "### Exercise <span class=\"exercise\">8.c</span>\n",
    "\n",
    "Use a list comprehesion to construct a list with $n^2$ for $n$ ranging from `3` to `10` (not inclusive!), but **do not include the term for** $n = 7$."
   ]
  },
  {
   "cell_type": "code",
   "execution_count": 70,
   "metadata": {},
   "outputs": [
    {
     "data": {
      "text/plain": [
       "[9, 16, 25, 36, 64, 81]"
      ]
     },
     "execution_count": 70,
     "metadata": {},
     "output_type": "execute_result"
    }
   ],
   "source": [
    "#// BEGIN_TODO [PRE_8c] Create list of squares, exclude 7 (1 point)\n",
    "[n**2 for n in range(3,10) if n!=7]\n",
    "#// END_TODO [PRE_8c]"
   ]
  },
  {
   "cell_type": "markdown",
   "metadata": {},
   "source": [
    "## Sequence membership\n",
    "\n",
    "Python provides convenient functions to check whether an element does or does not occur in a sequence:\n",
    "\n",
    "* `x in sequence` : return whether `x` occurs in `sequence`\n",
    "* `x not in sequence` : return whether `x` does not occur in `sequence`; short for: `not (x in sequence)`"
   ]
  },
  {
   "cell_type": "markdown",
   "metadata": {},
   "source": [
    "### Exercise <span class=\"exercise\">8.d</span>\n",
    "\n",
    "Write an **expression** to confirm that `'dog'` is an element of the `animal_list`. "
   ]
  },
  {
   "cell_type": "code",
   "execution_count": 93,
   "metadata": {},
   "outputs": [
    {
     "data": {
      "text/plain": [
       "[0]"
      ]
     },
     "execution_count": 93,
     "metadata": {},
     "output_type": "execute_result"
    }
   ],
   "source": [
    "#// BEGIN_TODO [PRE_8d] Whether \"dog\" is a member of preceding list (1 point)\n",
    "[x for x in range(len(animal_list)) if animal_list[x]=='dog']\n",
    "# ===== =====> Replace this line by your code. <===== ===== #\n",
    "\n",
    "#// END_TODO [PRE_8d]"
   ]
  },
  {
   "cell_type": "markdown",
   "metadata": {},
   "source": [
    "## Indexing a sequence\n",
    "\n",
    "Sequences (strings and lists) can be **indexed**\n",
    "to get an element at a specific position in the sequence.\n",
    "\n",
    "Consider the following sequence `u` as an example:"
   ]
  },
  {
   "cell_type": "code",
   "execution_count": 94,
   "metadata": {},
   "outputs": [],
   "source": [
    "u = ['a','b','c','d','e']"
   ]
  },
  {
   "cell_type": "markdown",
   "metadata": {},
   "source": [
    "The sequence `u` has five elements. Indeed, we can check the length the sequence `u` by"
   ]
  },
  {
   "cell_type": "code",
   "execution_count": 95,
   "metadata": {},
   "outputs": [
    {
     "data": {
      "text/plain": [
       "5"
      ]
     },
     "execution_count": 95,
     "metadata": {},
     "output_type": "execute_result"
    }
   ],
   "source": [
    "len(u)"
   ]
  },
  {
   "cell_type": "markdown",
   "metadata": {},
   "source": [
    "The index of every element is the position at which it appears in the sequence, **starting from index 0**. The index of the element `'a'`, is **0**, the index of the element `'b'`, is **1**, etc.. In the english language, it is more common to refer to the element `'a'` as the first element of the sequence, and we will follow that convention as well. We can extract the **3rd** element of the sequence (i.e. the element at index 2) by evaluating"
   ]
  },
  {
   "cell_type": "code",
   "execution_count": 96,
   "metadata": {},
   "outputs": [
    {
     "data": {
      "text/plain": [
       "'c'"
      ]
     },
     "execution_count": 96,
     "metadata": {},
     "output_type": "execute_result"
    }
   ],
   "source": [
    "u[2]"
   ]
  },
  {
   "cell_type": "markdown",
   "metadata": {},
   "source": [
    "If you supply an index that is too large, you will get an `IndexError` (addressed below under [Errors and their reporting](#Errors-and-their-reporting))"
   ]
  },
  {
   "cell_type": "code",
   "execution_count": 97,
   "metadata": {},
   "outputs": [
    {
     "ename": "IndexError",
     "evalue": "list index out of range",
     "output_type": "error",
     "traceback": [
      "\u001b[1;31m---------------------------------------------------------------------------\u001b[0m",
      "\u001b[1;31mIndexError\u001b[0m                                Traceback (most recent call last)",
      "\u001b[1;32m<ipython-input-97-3fe27f04f1c5>\u001b[0m in \u001b[0;36m<module>\u001b[1;34m\u001b[0m\n\u001b[1;32m----> 1\u001b[1;33m \u001b[0mu\u001b[0m\u001b[1;33m[\u001b[0m\u001b[1;36m5\u001b[0m\u001b[1;33m]\u001b[0m\u001b[1;33m\u001b[0m\u001b[1;33m\u001b[0m\u001b[0m\n\u001b[0m",
      "\u001b[1;31mIndexError\u001b[0m: list index out of range"
     ]
    }
   ],
   "source": [
    "u[5]"
   ]
  },
  {
   "cell_type": "markdown",
   "metadata": {},
   "source": [
    "Python has the useful feature that by supplying a negative index $-k$, it actually returns the element with index $n - k$, where $n$ is the length of the list. This way, `u[-1]` will yield the last element of the list `u`."
   ]
  },
  {
   "cell_type": "code",
   "execution_count": 98,
   "metadata": {},
   "outputs": [
    {
     "data": {
      "text/plain": [
       "'e'"
      ]
     },
     "execution_count": 98,
     "metadata": {},
     "output_type": "execute_result"
    }
   ],
   "source": [
    "u[-1]"
   ]
  },
  {
   "cell_type": "markdown",
   "metadata": {},
   "source": [
    "When a list contains another list as an element, we say that one list is **nested** inside another list.\n",
    "This is one way to represent tabular data and matrices.\n",
    "To access elements in the _inner_ list, you need _two_ levels of indexing:"
   ]
  },
  {
   "cell_type": "code",
   "execution_count": 99,
   "metadata": {},
   "outputs": [
    {
     "data": {
      "text/plain": [
       "203"
      ]
     },
     "execution_count": 99,
     "metadata": {},
     "output_type": "execute_result"
    }
   ],
   "source": [
    "v = [101, [201, 202, 203, 204], 102]\n",
    "v[1][2]"
   ]
  },
  {
   "cell_type": "markdown",
   "metadata": {},
   "source": [
    "### Exercise <span class=\"exercise\">8.e</span>\n",
    "\n",
    "Write an expression to get the sixth character of string `s`.\n",
    "\n",
    "> Note: a space counts as a character."
   ]
  },
  {
   "cell_type": "code",
   "execution_count": 103,
   "metadata": {},
   "outputs": [
    {
     "data": {
      "text/plain": [
       "'A'"
      ]
     },
     "execution_count": 103,
     "metadata": {},
     "output_type": "execute_result"
    }
   ],
   "source": [
    "s = 'Data Analytics'\n",
    "\n",
    "#// BEGIN_TODO [PRE_8e] Sixth character of s (1 point)\n",
    "s[5]\n",
    "# ===== =====> Replace this line by your code. <===== ===== #\n",
    "\n",
    "#// END_TODO [PRE_8e]"
   ]
  },
  {
   "cell_type": "markdown",
   "metadata": {},
   "source": [
    "### Exercise <span class=\"exercise\">8.f</span>\n",
    "\n",
    "Write an expression to get the last element from the list `t`."
   ]
  },
  {
   "cell_type": "code",
   "execution_count": 101,
   "metadata": {},
   "outputs": [
    {
     "data": {
      "text/plain": [
       "0"
      ]
     },
     "execution_count": 101,
     "metadata": {},
     "output_type": "execute_result"
    }
   ],
   "source": [
    "t = [2, 'iab', 0]\n",
    "t[-1]\n",
    "\n",
    "#// BEGIN_TODO [PRE_8f] Last element of t (1 point)\n",
    "\n",
    "# ===== =====> Replace this line by your code. <===== ===== #\n",
    "\n",
    "#// END_TODO [PRE_8f]"
   ]
  },
  {
   "cell_type": "markdown",
   "metadata": {},
   "source": [
    "### Exercise <span class=\"exercise\">8.g</span>\n",
    "\n",
    "Write an expression to get the first character from the second element from the list `t`."
   ]
  },
  {
   "cell_type": "code",
   "execution_count": 104,
   "metadata": {},
   "outputs": [
    {
     "data": {
      "text/plain": [
       "2"
      ]
     },
     "execution_count": 104,
     "metadata": {},
     "output_type": "execute_result"
    }
   ],
   "source": [
    "t = [2, 'iab', 0]\n",
    "t[0]\n",
    "\n",
    "#// BEGIN_TODO [PRE_8g] First character of second element of t (1 point)\n",
    "\n",
    "# ===== =====> Replace this line by your code. <===== ===== #\n",
    "\n",
    "#// END_TODO [PRE_8g]"
   ]
  },
  {
   "cell_type": "markdown",
   "metadata": {},
   "source": [
    "## Slicing a sequence\n",
    "\n",
    "Consider again the sequence"
   ]
  },
  {
   "cell_type": "code",
   "execution_count": 105,
   "metadata": {},
   "outputs": [],
   "source": [
    "u = ['a', 'b', 'c', 'd', 'e']"
   ]
  },
  {
   "cell_type": "markdown",
   "metadata": {},
   "source": [
    "We can extract the **subsequence** from index **2** to (but not including!) index **4** by evaluating"
   ]
  },
  {
   "cell_type": "code",
   "execution_count": 106,
   "metadata": {},
   "outputs": [
    {
     "data": {
      "text/plain": [
       "['c', 'd']"
      ]
     },
     "execution_count": 106,
     "metadata": {},
     "output_type": "execute_result"
    }
   ],
   "source": [
    "u[2:4]"
   ]
  },
  {
   "cell_type": "markdown",
   "metadata": {},
   "source": [
    "Note that we get a new sequence, the subsequence, only consisting of the elements of the original sequence at index **2** and **3**; the element with index **4** is _not included_. Such a subsequence consisting of elements with contiguous indices is called a **slice**. \n",
    "\n",
    "If you leave out one of the indices, the slice runs from the beginning or to the end. For instance, `u[:3]` gives the subsequence consisting of the first three elements of the original list"
   ]
  },
  {
   "cell_type": "code",
   "execution_count": 107,
   "metadata": {},
   "outputs": [
    {
     "data": {
      "text/plain": [
       "['a', 'b', 'c']"
      ]
     },
     "execution_count": 107,
     "metadata": {},
     "output_type": "execute_result"
    }
   ],
   "source": [
    "u[:3]"
   ]
  },
  {
   "cell_type": "markdown",
   "metadata": {},
   "source": [
    "and `u[2:]` gives the subsequence starting from index `2`"
   ]
  },
  {
   "cell_type": "code",
   "execution_count": 108,
   "metadata": {},
   "outputs": [
    {
     "data": {
      "text/plain": [
       "['c', 'd', 'e']"
      ]
     },
     "execution_count": 108,
     "metadata": {},
     "output_type": "execute_result"
    }
   ],
   "source": [
    "u[2:]"
   ]
  },
  {
   "cell_type": "markdown",
   "metadata": {},
   "source": [
    "Negative indices are also allowed. As before, a negative index $-k$ gets replaced by $n-k$ where $n$ is the length of the list. This way, `u[-2:]` gives the subsequence consisting of the last two elements of the original list"
   ]
  },
  {
   "cell_type": "code",
   "execution_count": 109,
   "metadata": {},
   "outputs": [
    {
     "data": {
      "text/plain": [
       "['d', 'e']"
      ]
     },
     "execution_count": 109,
     "metadata": {},
     "output_type": "execute_result"
    }
   ],
   "source": [
    "u[-2:]"
   ]
  },
  {
   "cell_type": "markdown",
   "metadata": {},
   "source": [
    "### Exercise <span class=\"exercise\">8.h</span>\n",
    "\n",
    "Write an expression to obtain the fourth to sixth (inclusive) characters of `s`."
   ]
  },
  {
   "cell_type": "code",
   "execution_count": 110,
   "metadata": {},
   "outputs": [
    {
     "data": {
      "text/plain": [
       "' A'"
      ]
     },
     "execution_count": 110,
     "metadata": {},
     "output_type": "execute_result"
    }
   ],
   "source": [
    "#// BEGIN_TODO [PRE_8h] Fourth to sixth characters of s (1 point)\n",
    "s[4:6]\n",
    "# ===== =====> Replace this line by your code. <===== ===== #\n",
    "\n",
    "#// END_TODO [PRE_8h]"
   ]
  },
  {
   "cell_type": "markdown",
   "metadata": {},
   "source": [
    "### Exercise <span class=\"exercise\">8.i</span>\n",
    "\n",
    "Write an expression to obtain the first four characters of `s`."
   ]
  },
  {
   "cell_type": "code",
   "execution_count": 111,
   "metadata": {},
   "outputs": [
    {
     "data": {
      "text/plain": [
       "'Data'"
      ]
     },
     "execution_count": 111,
     "metadata": {},
     "output_type": "execute_result"
    }
   ],
   "source": [
    "#// BEGIN_TODO [PRE_8i] First four characters of s (1 point)\n",
    "s[:4]\n",
    "# ===== =====> Replace this line by your code. <===== ===== #\n",
    "\n",
    "#// END_TODO [PRE_8i]"
   ]
  },
  {
   "cell_type": "markdown",
   "metadata": {},
   "source": [
    "### Exercise <span class=\"exercise\">8.j</span>\n",
    "\n",
    "Write an expression to obtain the last nine characters of `s`."
   ]
  },
  {
   "cell_type": "code",
   "execution_count": 112,
   "metadata": {},
   "outputs": [
    {
     "data": {
      "text/plain": [
       "'Analytics'"
      ]
     },
     "execution_count": 112,
     "metadata": {},
     "output_type": "execute_result"
    }
   ],
   "source": [
    "#// BEGIN_TODO [PRE_8j] Last nine characters of s (1 point)\n",
    "s[-9:]\n",
    "# ===== =====> Replace this line by your code. <===== ===== #\n",
    "\n",
    "#// END_TODO [PRE_8j]"
   ]
  },
  {
   "cell_type": "markdown",
   "metadata": {},
   "source": [
    "## Changing list elements\n",
    "\n",
    "Each element in a list can be considered a variable.\n",
    "In that sense,\n",
    "a list is a sequence of variables,\n",
    "and list indexing is used to select a specific variable.\n",
    "\n",
    "If we go back to our specific example"
   ]
  },
  {
   "cell_type": "code",
   "execution_count": 113,
   "metadata": {},
   "outputs": [],
   "source": [
    "u = ['a', 'b', 'c', 'd', 'e']"
   ]
  },
  {
   "cell_type": "markdown",
   "metadata": {},
   "source": [
    "we can change the **4th** element of the list (the element at index **3**) into a `'z'` by executing the assignment"
   ]
  },
  {
   "cell_type": "code",
   "execution_count": 114,
   "metadata": {},
   "outputs": [],
   "source": [
    "u[3] = 'z'"
   ]
  },
  {
   "cell_type": "markdown",
   "metadata": {},
   "source": [
    "Let us check the result"
   ]
  },
  {
   "cell_type": "code",
   "execution_count": 115,
   "metadata": {},
   "outputs": [
    {
     "data": {
      "text/plain": [
       "['a', 'b', 'c', 'z', 'e']"
      ]
     },
     "execution_count": 115,
     "metadata": {},
     "output_type": "execute_result"
    }
   ],
   "source": [
    "u"
   ]
  },
  {
   "cell_type": "markdown",
   "metadata": {},
   "source": [
    "Here are some further examples:"
   ]
  },
  {
   "cell_type": "code",
   "execution_count": 116,
   "metadata": {},
   "outputs": [
    {
     "data": {
      "text/plain": [
       "[1, 5, 3]"
      ]
     },
     "execution_count": 116,
     "metadata": {},
     "output_type": "execute_result"
    }
   ],
   "source": [
    "x = [1, 2, 3]\n",
    "x[1] = 5\n",
    "x"
   ]
  },
  {
   "cell_type": "markdown",
   "metadata": {},
   "source": [
    "We can change elements in nested lists using multiple levels of indexing:"
   ]
  },
  {
   "cell_type": "code",
   "execution_count": 117,
   "metadata": {},
   "outputs": [
    {
     "data": {
      "text/plain": [
       "[['a', 1], ['c', 2]]"
      ]
     },
     "execution_count": 117,
     "metadata": {},
     "output_type": "execute_result"
    }
   ],
   "source": [
    "y = [['a', 1], ['b', 2]]\n",
    "y[1][0] = 'c'\n",
    "y"
   ]
  },
  {
   "cell_type": "markdown",
   "metadata": {},
   "source": [
    "### Exercise <span class=\"exercise\">8.k</span>\n",
    "\n",
    "Consider the list consisting of the elements `5`, `2`, `'X'`, and `1` (in this order;\n",
    "it has been assigned to the variable `v`).  \n",
    "Write a **list element assignment** to replace the third element by `10`."
   ]
  },
  {
   "cell_type": "code",
   "execution_count": 118,
   "metadata": {},
   "outputs": [
    {
     "data": {
      "text/plain": [
       "[5, 2, 10, 1]"
      ]
     },
     "execution_count": 118,
     "metadata": {},
     "output_type": "execute_result"
    }
   ],
   "source": [
    "v = [5, 2, 'X', 1]\n",
    "v[2]=10\n",
    "\n",
    "#// BEGIN_TODO [PRE_8k] Assign 10 to third element of v (1 point)\n",
    "\n",
    "# ===== =====> Replace this line by your code. <===== ===== #\n",
    "\n",
    "#// END_TODO [PRE_8k]\n",
    "\n",
    "v"
   ]
  },
  {
   "attachments": {
    "magic-square.png": {
     "image/png": "[encoded data removed]"
    }
   },
   "cell_type": "markdown",
   "metadata": {},
   "source": [
    "### Exercise <span class=\"exercise\">8.l</span>\n",
    "\n",
    "Consider the list-of-lists `m` defined below, representing a well-known _magic square_.\n",
    "The nested lists represent the rows, as is shown in this diagram:\n",
    "\n",
    "<div>\n",
    "<img src=\"attachment:magic-square.png\" alt=\"Magic Square\" align=\"center\" width=\"150px\">\n",
    "</div>\n",
    "\n",
    "Write two **expressions** (separated by a comma) to compute\n",
    "the sum of the elements in the _first row_ and the sum of those in the _last column_."
   ]
  },
  {
   "cell_type": "code",
   "execution_count": 120,
   "metadata": {},
   "outputs": [
    {
     "data": {
      "text/plain": [
       "19"
      ]
     },
     "execution_count": 120,
     "metadata": {},
     "output_type": "execute_result"
    }
   ],
   "source": [
    "m = [[8, 3, 4], [1, 5, 9], [6, 7, 2]]\n",
    "\n",
    "#// BEGIN_TODO [PRE_8l] Sum of first row, sum of last column (1 point)\n",
    "m[0][0]+m[0][2]+m[2][1]\n",
    "# ===== =====> Replace this line by your code. <===== ===== #\n",
    "\n",
    "#// END_TODO [PRE_8l]"
   ]
  },
  {
   "cell_type": "markdown",
   "metadata": {},
   "source": [
    "# <span class=\"section\">9.</span> Dictionaries\n",
    "\n",
    "A dictionary is a collection of key-value pairs. In the following code cell we construct a dictionary called `age`."
   ]
  },
  {
   "cell_type": "code",
   "execution_count": 121,
   "metadata": {},
   "outputs": [
    {
     "data": {
      "text/plain": [
       "{'Alice': 19, 'Bob': 23, 'Eve': 37, 'Mallory': 9}"
      ]
     },
     "execution_count": 121,
     "metadata": {},
     "output_type": "execute_result"
    }
   ],
   "source": [
    "age = {'Alice': 19, 'Bob': 23, 'Eve': 37, 'Mallory': 9}\n",
    "age"
   ]
  },
  {
   "cell_type": "markdown",
   "metadata": {},
   "source": [
    "The dictionary `age` contains four key-value pairs. The strings `'Alice', 'Bob', 'Eve', 'Mallroy'` are keys, and the integers `19, 23, 37, 9` are their corresponding values."
   ]
  },
  {
   "cell_type": "markdown",
   "metadata": {},
   "source": [
    "Dictionary values can be of any type. There are some restrictions on the allowed key types (they need to be immutable), but you can assume that most types used in this course are valid, _except for lists_. For example, the following dictionary combines keys and values of different types:"
   ]
  },
  {
   "cell_type": "code",
   "execution_count": 122,
   "metadata": {},
   "outputs": [
    {
     "data": {
      "text/plain": [
       "{'Name': 'Bob', 'Age': 24, 'Height': 181.7, 1: 'Amsterdam', 2: 'London'}"
      ]
     },
     "execution_count": 122,
     "metadata": {},
     "output_type": "execute_result"
    }
   ],
   "source": [
    "{'Name': 'Bob', 'Age': 24, 'Height': 181.7, 1: 'Amsterdam', 2: 'London'}"
   ]
  },
  {
   "cell_type": "markdown",
   "metadata": {},
   "source": [
    "Dictrionary keys are unique. Defining a dictionary with duplicate keys will keep the last value:"
   ]
  },
  {
   "cell_type": "code",
   "execution_count": 123,
   "metadata": {},
   "outputs": [
    {
     "data": {
      "text/plain": [
       "{'Alice': 19, 'Bob': 99, 'Eve': 37, 'Mallory': 9}"
      ]
     },
     "execution_count": 123,
     "metadata": {},
     "output_type": "execute_result"
    }
   ],
   "source": [
    "age = {'Alice': 19, 'Bob': 24, 'Eve': 37, 'Mallory': 9, 'Bob': 99}\n",
    "age"
   ]
  },
  {
   "cell_type": "markdown",
   "metadata": {},
   "source": [
    "## Dictionary membership\n",
    "\n",
    "Python provides convenient functions to check whether a key does or does not occur in a dictionary:\n",
    "\n",
    "* `x in dictionary` : return whether the key `x` occurs in `dictionary`\n",
    "* `x not in dictionary` : return whether the key `x` does not occur in `dictionary`; short for: `not (x in dictionary)`"
   ]
  },
  {
   "cell_type": "markdown",
   "metadata": {},
   "source": [
    "### Exercise <span class=\"exercise\">9.a</span>\n",
    "\n",
    "Write an **expression** to confirm that `'Peter'` does _not_ occur in the `age` dictionary. "
   ]
  },
  {
   "cell_type": "code",
   "execution_count": 124,
   "metadata": {},
   "outputs": [],
   "source": [
    "#// BEGIN_TODO [PRE_9a] 'Peter' is not a member of the age dictionary (1 point)\n",
    "\n",
    "# ===== =====> Replace this line by your code. <===== ===== #\n",
    "\n",
    "#// END_TODO [PRE_9a]"
   ]
  },
  {
   "cell_type": "markdown",
   "metadata": {},
   "source": [
    "## Indexing a dictionary\n",
    "\n",
    "The number of key-value pairs inside of a dictionary can be retrieved using `len()`:"
   ]
  },
  {
   "cell_type": "code",
   "execution_count": 125,
   "metadata": {},
   "outputs": [
    {
     "data": {
      "text/plain": [
       "4"
      ]
     },
     "execution_count": 125,
     "metadata": {},
     "output_type": "execute_result"
    }
   ],
   "source": [
    "len(age)"
   ]
  },
  {
   "cell_type": "markdown",
   "metadata": {},
   "source": [
    "You can look up a value in the dictionary by providing the corresponding key with square-bracket notation, similar to when you get a value in a list by providing an index. For example, we can retrieve Bob's age with:"
   ]
  },
  {
   "cell_type": "code",
   "execution_count": 126,
   "metadata": {},
   "outputs": [
    {
     "data": {
      "text/plain": [
       "99"
      ]
     },
     "execution_count": 126,
     "metadata": {},
     "output_type": "execute_result"
    }
   ],
   "source": [
    "age['Bob']"
   ]
  },
  {
   "cell_type": "markdown",
   "metadata": {},
   "source": [
    "Sometimes we say that a dictionary _maps_ keys to their corresponding value."
   ]
  },
  {
   "cell_type": "markdown",
   "metadata": {},
   "source": [
    "## Adding and changing dictionary values\n",
    "\n",
    "A value can be changed by assigning the new value to a particular key, using similar notation to lists. For example, we can change Bob's age with:"
   ]
  },
  {
   "cell_type": "code",
   "execution_count": 127,
   "metadata": {},
   "outputs": [
    {
     "data": {
      "text/plain": [
       "{'Alice': 19, 'Bob': 25, 'Eve': 37, 'Mallory': 9}"
      ]
     },
     "execution_count": 127,
     "metadata": {},
     "output_type": "execute_result"
    }
   ],
   "source": [
    "age['Bob'] = 25\n",
    "age"
   ]
  },
  {
   "cell_type": "markdown",
   "metadata": {},
   "source": [
    "A new key-value pair can be added to a dictionary by assigning the value to the new key: "
   ]
  },
  {
   "cell_type": "code",
   "execution_count": 128,
   "metadata": {},
   "outputs": [
    {
     "data": {
      "text/plain": [
       "{'Alice': 19, 'Bob': 25, 'Eve': 37, 'Mallory': 9, 'Tom': 67}"
      ]
     },
     "execution_count": 128,
     "metadata": {},
     "output_type": "execute_result"
    }
   ],
   "source": [
    "age['Tom'] = 67\n",
    "age"
   ]
  },
  {
   "cell_type": "markdown",
   "metadata": {},
   "source": [
    "### Exercise <span class=\"exercise\">9.b</span>\n",
    "\n",
    "Compute the average age of all the people in the `age` dictionary."
   ]
  },
  {
   "cell_type": "code",
   "execution_count": null,
   "metadata": {},
   "outputs": [],
   "source": [
    "#// BEGIN_TODO [PRE_9b] Compute the average age of all the people in the age dictionary (1 point)\n",
    "\n",
    "# ===== =====> Replace this line by your code. <===== ===== #\n",
    "\n",
    "#// END_TODO [PRE_9b]"
   ]
  },
  {
   "cell_type": "markdown",
   "metadata": {},
   "source": [
    "# <span class=\"section\">10.</span> Function calls\n",
    "\n",
    "Python provides many useful functions, which operate on data. You have already encountered the `type()` and `len()` functions. A function has a _name_, it takes zero or more _arguments_ and returns zero or one _return value_. For example, the `pow(x, y)` function has the name `pow`, takes two arguments `x` and `y`, and returns a number representing `x` raised to the power `y`. Functions can be called, by specifying the function name and providing values for the arguments. The following example computes $2^5$:"
   ]
  },
  {
   "cell_type": "code",
   "execution_count": null,
   "metadata": {},
   "outputs": [],
   "source": [
    "pow(2, 5)"
   ]
  },
  {
   "cell_type": "markdown",
   "metadata": {},
   "source": [
    "In the remainder of this course you will come across many functions provided by Python itself or a library. You can get help on the functions using **Shift-Tab**. For example, look up what the `pow` function does:"
   ]
  },
  {
   "cell_type": "code",
   "execution_count": null,
   "metadata": {},
   "outputs": [],
   "source": [
    "pow"
   ]
  },
  {
   "cell_type": "markdown",
   "metadata": {},
   "source": [
    "# <span class=\"section\">11.</span> If statement\n",
    "\n",
    "Sometimes, you will only want to execute a piece of code if a certain _condition_ is satisfied, and run another piece of code otherwise. This is possible with an if statement.\n",
    "\n",
    "The if statement has the following syntax:\n",
    "```python\n",
    "if condition:\n",
    "    statements\n",
    "elif condition:      \n",
    "    statements      \n",
    "else condition:      \n",
    "    statements\n",
    "```\n",
    "where **`statements`** is a block of one or more statements **indented** to the same level. It has the following semantics:\n",
    "\n",
    "1. evaluate the conditions one by one;\n",
    "1. execute the statements corresponding to first condition that evaluates to `True`.\n",
    "\n",
    "For example, let us generate random numbers (as if it were to throw a dice). For that we need to load a function from the library by executing the following cell"
   ]
  },
  {
   "cell_type": "code",
   "execution_count": null,
   "metadata": {},
   "outputs": [],
   "source": [
    "from random import randrange"
   ]
  },
  {
   "cell_type": "markdown",
   "metadata": {},
   "source": [
    "We can now get a random number from `0` up to (but not including) `10` with the expression"
   ]
  },
  {
   "cell_type": "code",
   "execution_count": null,
   "metadata": {},
   "outputs": [],
   "source": [
    "randrange(0,10)"
   ]
  },
  {
   "cell_type": "markdown",
   "metadata": {},
   "source": [
    "You can execute the cell several times and you will see that the number changes.\n",
    "\n",
    "In the following code cell, the variables `a` and `b` are assigned random integers from 0 to 10. The result of the next lines is that if `b > a`, the variable `s` gets assigned the string `'b is larger than a'`. Else, if `b==a`, the variable `s` gets assigned `'b is equal to a'`. Else, the variable `s` gets assigned `'b is less than a'`."
   ]
  },
  {
   "cell_type": "code",
   "execution_count": null,
   "metadata": {},
   "outputs": [],
   "source": [
    "a = randrange(0,10)\n",
    "b = randrange(0,10)\n",
    "\n",
    "if b > a:                    \n",
    "    s = 'b is larger than a' \n",
    "elif b == a:                 \n",
    "    s = 'b is equal to a'    \n",
    "else:                        \n",
    "    s = 'b is less than a'   \n",
    "    \n",
    "a, b, s"
   ]
  },
  {
   "cell_type": "markdown",
   "metadata": {},
   "source": [
    "You can execute the cell several times and you will see that the values of `a`, `b`, and `s` change.\n",
    "\n",
    "> **NOTE:** The *condition* can be any logical expression (e.g. `5 < a and a < b`. \n",
    "\n",
    "> **NOTE:** The `elif` and `else` clauses are optional.\n",
    "\n",
    "> **IMPORTANT:** In Python indentation is very important. In these notebooks we use 4 spaces for indentation. When you press TAB then 4 spaces are automatically inserted. The statements in the block following a condition (e.g. `s = 'b is larger than a'`) should be indented with 4 spaces relative to the condition (e.g. `if b > a:`). In case a block contains more than one line, all the lines belonging to the block should be indented equally."
   ]
  },
  {
   "cell_type": "markdown",
   "metadata": {},
   "source": [
    "### Exercise <span class=\"exercise\">11.a</span>\n",
    "\n",
    "In the following code cell, `a` is assigned a random integer between 1 and 20 (not inclusive) and `b` is assigned a list of prime numbers betwen 1 and 20. Use an if-statement to assign to the variable `c` the string `'prime'` if `b` contains `a` and `'not prime'` otherwise."
   ]
  },
  {
   "cell_type": "code",
   "execution_count": null,
   "metadata": {},
   "outputs": [],
   "source": [
    "a = randrange(1,20)\n",
    "b = [2,3,5,7,11,13,17,19]\n",
    "\n",
    "#// BEGIN_TODO [PRE_11a]\n",
    "\n",
    "# ===== =====> Replace this line by your code. <===== ===== #\n",
    "\n",
    "#// END_TODO [PRE_11a]\n",
    "\n",
    "str(a) + ' is ' + c"
   ]
  },
  {
   "cell_type": "markdown",
   "metadata": {},
   "source": [
    "Note the use of `str()` function to convert the integer `a` to a string, so that it can be concatenated to the remaining strings `' is '` and `c`."
   ]
  },
  {
   "cell_type": "markdown",
   "metadata": {},
   "source": [
    "# <span class=\"section\">12.</span> For loop"
   ]
  },
  {
   "cell_type": "markdown",
   "metadata": {},
   "source": [
    "The **for loop** allows us to iterate over a list, i.e. to execute a set of statements for each element of a list. It has the following syntax:\n",
    "```python\n",
    "for x in list:      \n",
    "    statements\n",
    "```\n",
    "where **`statements`** is a block of one or more statements **indented** to the same level. It has the following semantics:\n",
    "\n",
    "1. assign elements from `list` to the variable `x` one by one\n",
    "1. execute the `statements` for each element assigned to `x`.\n",
    "\n",
    "For example, let us define a list of numbers `number_list`:"
   ]
  },
  {
   "cell_type": "code",
   "execution_count": null,
   "metadata": {},
   "outputs": [],
   "source": [
    "number_list = [2, 5, 3, 8, 3, 10, 2, 4, 35, 6]"
   ]
  },
  {
   "cell_type": "markdown",
   "metadata": {},
   "source": [
    "We can use a **for loop** to compute the sum of all elements in the list by"
   ]
  },
  {
   "cell_type": "code",
   "execution_count": null,
   "metadata": {},
   "outputs": [],
   "source": [
    "sum_so_far = 0\n",
    "\n",
    "for number in number_list:\n",
    "    sum_so_far = sum_so_far + number\n",
    "    print('The sum so far is: ', sum_so_far)\n",
    "    \n",
    "sum_so_far"
   ]
  },
  {
   "cell_type": "markdown",
   "metadata": {},
   "source": [
    "The piece of code in the indented block is executed for each element in the list `number_list`.\n",
    "\n",
    "The first time the block is executed, `number` equals `2`, the second time `number` equals `5` and so on until `number` equals `6`. \n",
    "\n",
    "On line 4, the `sum_so_far` is incremented by `number`. \n",
    "\n",
    "After finishing the for loop, the variable `sum_so_far` is equal to sum of the numbers in `number_list`.\n",
    "\n",
    "> **IMPORTANT:** The statements in the block following the `for ... :` line should be indented with 4 spaces. In case a block contains more than one line, all the lines belonging to the block should be indented equally."
   ]
  },
  {
   "cell_type": "markdown",
   "metadata": {},
   "source": [
    "In this particular case, we can use a built in function `sum()` to calculate the sum of all elements the list, and just call"
   ]
  },
  {
   "cell_type": "code",
   "execution_count": null,
   "metadata": {},
   "outputs": [],
   "source": [
    "sum(number_list)"
   ]
  },
  {
   "cell_type": "markdown",
   "metadata": {},
   "source": [
    "### Exercise <span class=\"exercise\">12.a</span>\n",
    "\n",
    "Consider the following string"
   ]
  },
  {
   "cell_type": "code",
   "execution_count": null,
   "metadata": {},
   "outputs": [],
   "source": [
    "text = '''\n",
    "       The mystery of the letter 'f' and the funky aspects of information processing of the human brain. \n",
    "       Could you tell me how often the letter 'f' appears in this fragment of text?\n",
    "       '''"
   ]
  },
  {
   "cell_type": "markdown",
   "metadata": {},
   "source": [
    "Use a **for loop** to count the number of times the character `'f'` appears in `text` above and assign it to the variable `f_count`."
   ]
  },
  {
   "cell_type": "code",
   "execution_count": null,
   "metadata": {},
   "outputs": [],
   "source": [
    "#// BEGIN_TODO [PRE_12a]\n",
    "\n",
    "# ===== =====> Replace this line by your code. <===== ===== #\n",
    "\n",
    "#// END_TODO [PRE_12a]\n",
    "\n",
    "f_count"
   ]
  },
  {
   "cell_type": "markdown",
   "metadata": {},
   "source": [
    "Did you arrive at the same number of `'f'`'s by counting yourself? Who do you trust?"
   ]
  },
  {
   "cell_type": "markdown",
   "metadata": {},
   "source": [
    "# <span class=\"section\">13.</span> Comments to document purpose and design of programs\n",
    "\n",
    "Comments in Python start with a **`#`** character,\n",
    "end extend to the end of the line (their syntax)."
   ]
  },
  {
   "cell_type": "code",
   "execution_count": null,
   "metadata": {},
   "outputs": [],
   "source": [
    "# this is a comment"
   ]
  },
  {
   "cell_type": "markdown",
   "metadata": {},
   "source": [
    "Comments are ignored during execution (their semantics)."
   ]
  },
  {
   "cell_type": "markdown",
   "metadata": {},
   "source": [
    "We use comments to state the **goal** of a program fragment:\n",
    "\n",
    "* the **assumptions** about its initial state,\n",
    "    in particular, about its _input data_, and\n",
    "* the desired **effect** or **result**,\n",
    "    in particular desired properties of its _output data_ in relation to the input data.\n",
    "\n",
    "Example:"
   ]
  },
  {
   "cell_type": "code",
   "execution_count": null,
   "metadata": {},
   "outputs": [],
   "source": [
    "# assumption: a != 0  and  b ** 2 >= 4 * a * c\n",
    "# result: x_1 and x_2 are approximate solutions to a * x ** 2 + b * x + c == 0\n",
    "\n",
    "a = 1\n",
    "b = 2\n",
    "c = -3\n",
    "\n",
    "discriminant = b ** 2 - 4 * a * c  # not negative\n",
    "x_1, x_2 =  (-b + discriminant ** 0.5) / (2 * a), (-b - discriminant ** 0.5) / (2 * a)\n",
    "\n",
    "x_1, x_2"
   ]
  },
  {
   "cell_type": "markdown",
   "metadata": {},
   "source": [
    "Comments are also used to document the **design** of a program:\n",
    "\n",
    "* indicate structure\n",
    "* explain why it works"
   ]
  },
  {
   "cell_type": "markdown",
   "metadata": {},
   "source": [
    "> **IMPORTANT**: Because we are working with _Jupyter notebooks_, we can use _markdown_ cells to comment the code. In fact, this keeps the notebooks much more readable. Especially when the number of instructions to execute for one exercise gets larger, we strongly recommend that you follow a style with only a few lines per code cell, and _markdown_ cells in between to comment on your code.\n",
    "\n",
    "> You can turn a cell to _markdown_ mode by clicking on it and selecting Markdown in the tool bar above."
   ]
  },
  {
   "cell_type": "markdown",
   "metadata": {},
   "source": [
    "### Exercise <span class=\"exercise\">13.a</span>"
   ]
  },
  {
   "cell_type": "markdown",
   "metadata": {},
   "source": [
    "Comments can also be used to (temporarily) suppress the execution of a line of code.\n",
    "Just prepend `#` in front of a line to suppress its execution\n",
    "(this is also known as **commenting out** a line).\n",
    "To undo this (also known as **uncommenting** a line) remove the `#`,\n",
    "and make sure that the line starts at the proper level of indentation.\n",
    "\n",
    "Consider the following Python code:\n",
    "\n",
    "```python\n",
    "a = b\n",
    "#b = a + 3\n",
    "a = c - 3\n",
    "c = b + 4\n",
    "b = a\n",
    "```\n",
    "\n",
    "* Copy this code into the next code cell (between the marker lines),\n",
    "* **uncomment** the line that is _commented out_, and\n",
    "* **comment out** a single assignment statement to make the final execution result show `(0, 0, 3)`.\n",
    "\n",
    "Hint: Don't be afraid to experiment."
   ]
  },
  {
   "cell_type": "code",
   "execution_count": null,
   "metadata": {},
   "outputs": [],
   "source": [
    "a = 1\n",
    "b = 2\n",
    "c = 3\n",
    "\n",
    "#// BEGIN_TODO [PRE_13a] Comment out a line (1 point)\n",
    "\n",
    "# ===== =====> Replace this line by your code. <===== ===== #\n",
    "\n",
    "#// END_TODO [PRE_13a]\n",
    "\n",
    "a, b, c"
   ]
  },
  {
   "cell_type": "markdown",
   "metadata": {},
   "source": [
    "\n",
    "# <span class=\"section\">14.</span> Errors: reporting and diagnosis\n",
    "\n",
    "While programming, you will encounter various situations where programs do not work as intended or expected. We say that an **error** occurs.\n",
    "\n",
    "Common causes of errors:\n",
    "\n",
    "* **typo**: a mistake while typing in the program text.\n",
    "* **mistaken translation** of your computational idea into a (Python) program,\n",
    "    possibly caused by misunderstanding the programming language;\n",
    "* **thinko** (look it up!): a mental mistake while understanding or analyzing the problem to be solved.\n",
    "\n",
    "## Errors and their reporting in Python\n",
    "\n",
    "Whenever an error is encountered,\n",
    "a so-called **exception is _raised_**.\n",
    "Unless this exception is _caught_ in the code,\n",
    "execution is immediately interrupted,\n",
    "and a so-called **traceback** is generated.\n",
    "This traceback shows you _where_ the error occurred,\n",
    "and _what_ kind of error it is.\n",
    "\n",
    "For error diagnosis it is useful to enable **verbose error reporting**\n",
    "through the command `%xmode verbose`.\n",
    "In verbose mode, some additional information is shown.\n",
    "Note that this command is _not_ Python code,\n",
    "but a so-called _magic command_ to the **kernel**,\n",
    "that is, to the Python execution engine."
   ]
  },
  {
   "cell_type": "code",
   "execution_count": null,
   "metadata": {},
   "outputs": [],
   "source": [
    "%xmode verbose"
   ]
  },
  {
   "cell_type": "markdown",
   "metadata": {},
   "source": [
    "Here is an example of a syntax error:"
   ]
  },
  {
   "cell_type": "code",
   "execution_count": null,
   "metadata": {},
   "outputs": [],
   "source": [
    ")"
   ]
  },
  {
   "cell_type": "markdown",
   "metadata": {},
   "source": [
    "## Error diagnosis\n",
    "\n",
    "Error diagnosis is the process of finding the cause that underlies a reported error.\n",
    "\n",
    "The first thing to understand about error reports in programming\n",
    "is that the location where an error is **detected**\n",
    "need not be where the error was **caused**. For example:"
   ]
  },
  {
   "cell_type": "code",
   "execution_count": null,
   "metadata": {},
   "outputs": [],
   "source": [
    "[3 ** 2 +\n",
    " 4 ** 2) ** 0.5"
   ]
  },
  {
   "cell_type": "markdown",
   "metadata": {},
   "source": [
    "The error is reported at the closing parenthesis,\n",
    "but the cause of this syntax error is (most likely) the _typo_ in the opening parenthesis,\n",
    "which appears one line earlier.\n",
    "\n",
    "So, when you encounter an error and want to fix it,\n",
    "the actual cause need not be at the location where the error was reported.\n",
    "It could be located _elsewhere_ in the program.\n",
    "\n",
    "* For a `SyntaxError`,\n",
    "    elsewhere means at a **preceding location in the code**,\n",
    "    either on the same line, or a preceding line.  \n",
    "    You do know that the cause must be in the _same code cell_\n",
    "    where the error was reported.\n",
    "\n",
    "* For _other errors_, elsewhere means at a **preceding step in the execution**.\n",
    "    \n",
    "    Note that the cause of an error could even be located in _another code cell_ that has been executed earlier. If you followed the advice that code cells are executed in linear order, then this means that it can only be located in the same code cell, or a code cell that appears _before_ the code cell where the error was reported."
   ]
  },
  {
   "cell_type": "markdown",
   "metadata": {},
   "source": [
    "The following assignment statement looks fine."
   ]
  },
  {
   "cell_type": "code",
   "execution_count": null,
   "metadata": {},
   "outputs": [],
   "source": [
    "a, b = 1, 42 - 6 * 7"
   ]
  },
  {
   "cell_type": "markdown",
   "metadata": {},
   "source": [
    "But the following expression gives rise to a semantic error:"
   ]
  },
  {
   "cell_type": "code",
   "execution_count": null,
   "metadata": {},
   "outputs": [],
   "source": [
    "a / b"
   ]
  },
  {
   "cell_type": "markdown",
   "metadata": {},
   "source": [
    "The expression itself looks fine.\n",
    "The problem is in the combination of the operator and the variable values,\n",
    "defined in an earlier code cell.\n",
    "\n",
    "Note that when verbose error reporting is enabled,\n",
    "the error report includes the values of variables in the offending line of code."
   ]
  },
  {
   "cell_type": "markdown",
   "metadata": {},
   "source": [
    "## Logical errors\n",
    "\n",
    "Which of these two program fragments is correct?\n",
    "* `x = a / b`\n",
    "* `x = b / a`\n",
    "\n",
    "This is a trick question. It depends on what the programmer wants to accomplish. Maybe neither is correct, or both are.\n",
    "\n",
    "Logical errors are not -- and generally cannot be -- reported automatically. One reason for this is that such errors depend on the purpose of the code.\n",
    "\n",
    "That is why you always need to explain assumptions and desired effects and results (explain them in program comments, or text cells).\n",
    "They define what it means for a program to be correct.\n",
    "\n",
    "Furthermore, you should always\n",
    "be suspicious of results computed by programs:\n",
    "\n",
    "* Always ask yourself why you would trust programs and their results.\n",
    "\n",
    "* When you obtain results from a computer program, you should inspect them with a critical eye. Do the results make sense?\n",
    "\n",
    "* Whenever a result deviates from expectation, you might have made **a logical error**.\n",
    "\n",
    "Unfortunately,\n",
    "detecting a logical error by observing a bad result\n",
    "does not give you much of a clue _where_ a mistake could be located in your program."
   ]
  },
  {
   "cell_type": "markdown",
   "metadata": {},
   "source": [
    "## Locating mistakes\n",
    "\n",
    "When trying to localize the cause of a detected error,\n",
    "there are a couple of things you can do:\n",
    "\n",
    "* Restart the kernel and try again\n",
    "    (**Kernel > Restart & Run All**).  \n",
    "    Maybe the problem occurred because of bad values in variables, or out-of-order execution of code cells.\n",
    "* Read all the code that was executed,\n",
    "    and try to spot a mistake that could have caused the error.\n",
    "* Explain your code to someone else.  \n",
    "    Even if the other does not understand this,\n",
    "    you may yourself have an 'aha' moment.\n",
    "* Split the code cell that reported the error,\n",
    "    and execute the parts separately.  \n",
    "    After executing a part,\n",
    "    inspect variables to see if their _values_ and _types_ are as expected.\n",
    "* Try the same code with different starting values,\n",
    "    and observe for which values the code work and for which it does not.\n",
    "* Ask for assistance from someone else.  \n",
    "    When asking someone else,\n",
    "    make sure your notebook is well organized."
   ]
  },
  {
   "cell_type": "markdown",
   "metadata": {},
   "source": [
    "### Exercise <span class=\"exercise\">14.a</span>\n",
    "\n",
    "Set _verbose error reporting_,\n",
    "by writing and executing the appropriate **magic command** in the following code cell."
   ]
  },
  {
   "cell_type": "code",
   "execution_count": null,
   "metadata": {},
   "outputs": [],
   "source": [
    "#// BEGIN_TODO [PRE_14a] Set verbose error reporting (1 point)\n",
    "\n",
    "# ===== =====> Replace this line by your code. <===== ===== #\n",
    "\n",
    "#// END_TODO [PRE_14a]"
   ]
  },
  {
   "cell_type": "markdown",
   "metadata": {},
   "source": [
    "### Exercise <span class=\"exercise\">14.b</span>\n",
    "\n",
    "Let us define a list of persons:"
   ]
  },
  {
   "cell_type": "code",
   "execution_count": null,
   "metadata": {},
   "outputs": [],
   "source": [
    "persons = ['Bob', 'Alice', 'Eve', 'John']"
   ]
  },
  {
   "cell_type": "markdown",
   "metadata": {},
   "source": [
    "We would like to assign to the variable `last_person` the last element in the list `persons`. There is an error in the line `last_person = persons[4]` below. Read the code and (without running it) try to spot the error."
   ]
  },
  {
   "cell_type": "code",
   "execution_count": null,
   "metadata": {},
   "outputs": [],
   "source": [
    "last_person = persons[4]"
   ]
  },
  {
   "cell_type": "markdown",
   "metadata": {},
   "source": [
    "Now fix it (placing the corrected line between the `BEGIN_TODO` and `END_TODO` markers) and run the cell."
   ]
  },
  {
   "cell_type": "code",
   "execution_count": null,
   "metadata": {},
   "outputs": [],
   "source": [
    "#// BEGIN_TODO [PRE_14b] Fix a syntax error (1 point)\n",
    "\n",
    "# ===== =====> Replace this line by your code. <===== ===== #\n",
    "\n",
    "#// END_TODO [PRE_14b]\n",
    "\n",
    "last_person"
   ]
  },
  {
   "cell_type": "markdown",
   "metadata": {},
   "source": [
    "# <span class=\"section\">15.</span> Python best practices\n",
    "\n",
    "Some common programming conventions (not only for Python) are:\n",
    "\n",
    "* Write (at most) one statement per line.\n",
    "* Write whitespace around operators.\n",
    "* Write one blank line between program fragments to indicate grouping.\n",
    "* Break down long expressions by assigning subexpressions to auxiliary variables.\n",
    "* Use **meaningful** names; improve readability of names with **underscores**.\n",
    "* After defining a variable, **verify** its value.\n",
    "* Use each variable for **one purpose**; document that purpose in a comment.  \n",
    "    Don't reuse the same variable for a different purpose; rather, introduce a new variable.\n",
    "    \n",
    "These practices make a big difference for the human programmer:\n",
    "\n",
    "* You will make fewer mistakes.\n",
    "* If you do make mistakes, it will be easier to find them.\n",
    "* If you cannot find them,\n",
    "    then it will be easier for others to help you find them."
   ]
  },
  {
   "cell_type": "markdown",
   "metadata": {},
   "source": [
    "# <span class=\"section\">16.</span> Exercise: exam grades\n",
    "\n",
    "\n",
    "*In the earlier exercises you were closely guided. In the following exercises we will put your knowledge to the test.*\n",
    "\n",
    "*Note that these exercises may seem more difficult as you will need to work more indepedently. When you struggle with an exercise then go back to the corresponding earlier section and make sure you really understand the introduced concepts. Do not hesitate to experiment with your own code!*\n",
    "\n",
    "\n",
    "The following list contains the exam grades of a past course:"
   ]
  },
  {
   "cell_type": "code",
   "execution_count": null,
   "metadata": {},
   "outputs": [],
   "source": [
    "grades = [3.3, 3.9, 3.9, 4.2, 4.2, 4.2, 4.2, 4.2, 4.4, 4.4, 4.4, 5.0, 5.0, 5.3, 5.3, 5.6, 5.6, 5.8, 6.1, 6.1, 6.1, 6.4, 6.4, 6.4, 6.7, 6.7, 6.9, 6.9, 6.9, 6.9, 7.2, 7.2, 7.2, 7.5, 7.5, 7.5, 7.5, 7.8, 8.1, 8.1, 8.9, 9.2, 9.2, 10.0, 10.0]"
   ]
  },
  {
   "cell_type": "markdown",
   "metadata": {},
   "source": [
    "### Exercise <span class=\"exercise\">16.a</span>\n",
    "\n",
    "Assign to `grades_rounded` a list of rounded off grades.\n",
    "\n",
    "Hint: You may use the function `round(x)`, which rounds off `x` to the nearest integer, e.g. `round(6.8) == 7`."
   ]
  },
  {
   "cell_type": "code",
   "execution_count": null,
   "metadata": {},
   "outputs": [],
   "source": [
    "#// BEGIN_TODO [PRE_16a] Round off grades (1 point)\n",
    "\n",
    "# ===== =====> Replace this line by your code. <===== ===== #\n",
    "\n",
    "#// END_TODO [PRE_16a]\n",
    "\n",
    "grades_rounded"
   ]
  },
  {
   "cell_type": "markdown",
   "metadata": {},
   "source": [
    "### Exercise <span class=\"exercise\">16.b</span>\n",
    "\n",
    "Compute the *mean* of the rounded off grades and assign it to the variable `mean_grades_rounded`.\n",
    "\n",
    "> Note: recall the definition of a *mean* from the EDA lecture. "
   ]
  },
  {
   "cell_type": "code",
   "execution_count": null,
   "metadata": {},
   "outputs": [],
   "source": [
    "#// BEGIN_TODO [PRE_16b] Compute the mean (1 point)\n",
    "\n",
    "# ===== =====> Replace this line by your code. <===== ===== #\n",
    "\n",
    "#// END_TODO [PRE_16b]\n",
    "\n",
    "mean_grades_rounded"
   ]
  },
  {
   "cell_type": "markdown",
   "metadata": {},
   "source": [
    "### Exercise <span class=\"exercise\">16.c</span>\n",
    "\n",
    "Compute the *median* of the rounded off grades and assign it to the variable `median_grades_rounded`.\n",
    "\n",
    "> Note: recall the definition of the *median* from the EDA lecture. "
   ]
  },
  {
   "cell_type": "code",
   "execution_count": null,
   "metadata": {},
   "outputs": [],
   "source": [
    "#// BEGIN_TODO [PRE_16c] Compute the median  (1 point)\n",
    "\n",
    "# ===== =====> Replace this line by your code. <===== ===== #\n",
    "\n",
    "#// END_TODO [PRE_16c]\n",
    "\n",
    "median_grades_rounded"
   ]
  },
  {
   "cell_type": "markdown",
   "metadata": {},
   "source": [
    "### Exercise <span class=\"exercise\" id=\"exercise_count\">16.d</span>\n",
    "\n",
    "Count the number of times that each grade in `grades_rounded` occurs in `grades_rounded` and store the result in a dictionary `count`, where the grades are the dictionary keys (as integers) and their counts are the corresponding values."
   ]
  },
  {
   "cell_type": "code",
   "execution_count": null,
   "metadata": {},
   "outputs": [],
   "source": [
    "#// BEGIN_TODO [PRE_16d] Count the grades in grades_rounded (2 points)\n",
    "\n",
    "# ===== =====> Replace this line by your code. <===== ===== #\n",
    "\n",
    "#// END_TODO [PRE_16d]\n",
    "\n",
    "count"
   ]
  },
  {
   "cell_type": "markdown",
   "metadata": {},
   "source": [
    "### Exercise <span class=\"exercise\">16.e</span>\n",
    "\n",
    "Look at the `count` dictionary in <span class=\"reference\" ref=\"exercise_count\"><a href=\"#exercise_count\">Exercise 16.d</a></span>, find the *mode* of the rounded off grades and assign it to the variable `mode_grades_rounded`.\n",
    "\n",
    "> Note: recall the definition of a *mode* from the EDA lecture. For this exercise you can simply look up the value and do not have to compute it programmatically."
   ]
  },
  {
   "cell_type": "code",
   "execution_count": null,
   "metadata": {},
   "outputs": [],
   "source": [
    "#// BEGIN_TODO [PRE_16e] Find the mode (1 point)\n",
    "\n",
    "# ===== =====> Replace this line by your code. <===== ===== #\n",
    "\n",
    "#// END_TODO [PRE_16e]\n",
    "\n",
    "mode_grades_rounded"
   ]
  },
  {
   "cell_type": "markdown",
   "metadata": {},
   "source": [
    "# Feedback\n",
    "\n",
    "Please fill in this questionaire to help us improve this course for the next year. Your feedback will be anonymized and will not affect your grade in any way!"
   ]
  },
  {
   "cell_type": "markdown",
   "metadata": {},
   "source": [
    "### How many hours did you spend on these Exercises?\n",
    "\n",
    "Assign a number to `feedback_time`."
   ]
  },
  {
   "cell_type": "code",
   "execution_count": null,
   "metadata": {},
   "outputs": [],
   "source": [
    "#// BEGIN_TODO [Feedback_1] (0 point)\n",
    "\n",
    "# ===== =====> Replace this line by your code. <===== ===== #\n",
    "\n",
    "#// END_TODO [Feedback_1] (0 point)\n",
    "\n",
    "import numbers\n",
    "assert isinstance(feedback_time, numbers.Number), \"Please assign a number to feedback_time\"\n",
    "feedback_time"
   ]
  },
  {
   "cell_type": "markdown",
   "metadata": {},
   "source": [
    "### How difficult did you find these Exercises?\n",
    "\n",
    "Assign an integer to `feedback_difficulty`, on a scale 1 - 10, with 1 being very easy."
   ]
  },
  {
   "cell_type": "code",
   "execution_count": null,
   "metadata": {},
   "outputs": [],
   "source": [
    "#// BEGIN_TODO [Feedback_2] (0 point)\n",
    "\n",
    "# ===== =====> Replace this line by your code. <===== ===== #\n",
    "\n",
    "#// END_TODO [Feedback_2] (0 point)\n",
    "\n",
    "import numbers\n",
    "assert isinstance(feedback_difficulty, numbers.Number), \"Please assign a number to feedback_difficulty\"\n",
    "feedback_difficulty"
   ]
  },
  {
   "cell_type": "markdown",
   "metadata": {},
   "source": [
    "### (Optional) What did you like?\n",
    "\n",
    "Assign a string to `feedback_like`."
   ]
  },
  {
   "cell_type": "code",
   "execution_count": null,
   "metadata": {},
   "outputs": [],
   "source": [
    "#// BEGIN_TODO [Feedback_3] (0 point)\n",
    "\n",
    "# ===== =====> Replace this line by your code. <===== ===== #\n",
    "\n",
    "#// END_TODO [Feedback_3] (0 point)"
   ]
  },
  {
   "cell_type": "markdown",
   "metadata": {},
   "source": [
    "### (Optional) What can be improved?\n",
    "\n",
    "Assign a string to `feedback_improve`. Please be specific, so that we can act on your feedback. For example, mention the specific exercises and what was unclear."
   ]
  },
  {
   "cell_type": "code",
   "execution_count": null,
   "metadata": {},
   "outputs": [],
   "source": [
    "#// BEGIN_TODO [Feedback_4] (0 point)\n",
    "\n",
    "# ===== =====> Replace this line by your code. <===== ===== #\n",
    "\n",
    "#// END_TODO [Feedback_4] (0 point)"
   ]
  },
  {
   "cell_type": "markdown",
   "metadata": {},
   "source": [
    "\n",
    "\n",
    "\n",
    "## How to submit your work\n",
    "\n",
    "1. **Before submitting**, you must run your notebook by doing **Kernel > Restart & Run All**.  \n",
    "   Make sure that your notebook runs without errors **in linear order**.\n",
    "\n",
    "2. Remember to rename the notebook, replacing `...-template.ipynb` with `...-yourIDnr.ipynb`, where `yourIDnr` is your TU/e identification number.\n",
    "\n",
    "3. Submit the executed notebook with your work\n",
    "   for the appropriate assignment in **Canvas**.\n",
    "\n",
    "* In the **Momotor** tab in Canvas,\n",
    "  you can select that assignment again to find some feedback on your submitted work.\n",
    "  \n",
    "* If there are any problems reported by _Momotor_,\n",
    "  then you need to fix those,\n",
    "  and **resubmit the fixed notebook**.\n",
    "\n",
    "In case of a high workload on our server\n",
    "(because many students submit close to the deadline),\n",
    "it may take longer to receive the feedback.\n",
    "\n",
    "\n"
   ]
  },
  {
   "cell_type": "markdown",
   "metadata": {},
   "source": [
    "---"
   ]
  },
  {
   "cell_type": "code",
   "execution_count": null,
   "metadata": {},
   "outputs": [],
   "source": [
    "# List all defined names\n",
    "%whos"
   ]
  },
  {
   "cell_type": "markdown",
   "metadata": {},
   "source": [
    "---\n",
    "\n",
    "# (End of Notebook) <span class=\"tocSkip\"></span>\n",
    "\n",
    "&copy; 2017-2020 - **TU/e** - Eindhoven University of Technology"
   ]
  }
 ],
 "metadata": {
  "kernelspec": {
   "display_name": "Python 3",
   "language": "python",
   "name": "python3"
  },
  "language_info": {
   "codemirror_mode": {
    "name": "ipython",
    "version": 3
   },
   "file_extension": ".py",
   "mimetype": "text/x-python",
   "name": "python",
   "nbconvert_exporter": "python",
   "pygments_lexer": "ipython3",
   "version": "3.7.6"
  },
  "toc": {
   "base_numbering": 1,
   "nav_menu": {
    "height": "174px",
    "width": "252px"
   },
   "number_sections": false,
   "sideBar": true,
   "skip_h1_title": false,
   "title_cell": "Table of Contents",
   "title_sidebar": "Contents",
   "toc_cell": true,
   "toc_position": {
    "height": "742px",
    "left": "950px",
    "top": "111px",
    "width": "165px"
   },
   "toc_section_display": true,
   "toc_window_display": true
  }
 },
 "nbformat": 4,
 "nbformat_minor": 2
}
